{
  "nbformat": 4,
  "nbformat_minor": 0,
  "metadata": {
    "colab": {
      "name": "6_Anova_test.ipynb의 사본",
      "provenance": [],
      "include_colab_link": true
    },
    "kernelspec": {
      "name": "python3",
      "display_name": "Python 3"
    },
    "language_info": {
      "name": "python"
    }
  },
  "cells": [
    {
      "cell_type": "markdown",
      "metadata": {
        "id": "view-in-github",
        "colab_type": "text"
      },
      "source": [
        "<a href=\"https://colab.research.google.com/github/syh0397/Statistics_python/blob/main/6_Anova_test_ipynb.ipynb\" target=\"_parent\"><img src=\"https://colab.research.google.com/assets/colab-badge.svg\" alt=\"Open In Colab\"/></a>"
      ]
    },
    {
      "cell_type": "code",
      "source": [
        "!pip install pingouin\n",
        "!pip install --upgrade pingouin"
      ],
      "metadata": {
        "id": "h1JbaeqVLqZL",
        "outputId": "177012c8-57a0-42b5-8b37-d3e8d0c6931b",
        "colab": {
          "base_uri": "https://localhost:8080/"
        }
      },
      "execution_count": 1,
      "outputs": [
        {
          "output_type": "stream",
          "name": "stdout",
          "text": [
            "      Successfully uninstalled statsmodels-0.10.2\n",
            "\u001b[31mERROR: pip's dependency resolver does not currently take into account all the packages that are installed. This behaviour is the source of the following dependency conflicts.\n",
            "albumentations 0.1.12 requires imgaug<0.2.7,>=0.2.5, but you have imgaug 0.2.9 which is incompatible.\u001b[0m\n",
            "Successfully installed littleutils-0.2.2 outdated-0.2.1 pandas-flavor-0.2.0 pingouin-0.5.1 scipy-1.7.3 statsmodels-0.13.2\n",
            "Requirement already satisfied: pingouin in /usr/local/lib/python3.7/dist-packages (0.5.1)\n",
            "Requirement already satisfied: matplotlib>=3.0.2 in /usr/local/lib/python3.7/dist-packages (from pingouin) (3.2.2)\n",
            "Requirement already satisfied: statsmodels>=0.13 in /usr/local/lib/python3.7/dist-packages (from pingouin) (0.13.2)\n",
            "Requirement already satisfied: tabulate in /usr/local/lib/python3.7/dist-packages (from pingouin) (0.8.9)\n",
            "Requirement already satisfied: outdated in /usr/local/lib/python3.7/dist-packages (from pingouin) (0.2.1)\n",
            "Requirement already satisfied: numpy>=1.19 in /usr/local/lib/python3.7/dist-packages (from pingouin) (1.21.5)\n",
            "Requirement already satisfied: pandas>=1.0 in /usr/local/lib/python3.7/dist-packages (from pingouin) (1.3.5)\n",
            "Requirement already satisfied: scikit-learn in /usr/local/lib/python3.7/dist-packages (from pingouin) (1.0.2)\n",
            "Requirement already satisfied: pandas-flavor>=0.2.0 in /usr/local/lib/python3.7/dist-packages (from pingouin) (0.2.0)\n",
            "Requirement already satisfied: scipy>=1.7 in /usr/local/lib/python3.7/dist-packages (from pingouin) (1.7.3)\n",
            "Requirement already satisfied: seaborn>=0.11 in /usr/local/lib/python3.7/dist-packages (from pingouin) (0.11.2)\n",
            "Requirement already satisfied: kiwisolver>=1.0.1 in /usr/local/lib/python3.7/dist-packages (from matplotlib>=3.0.2->pingouin) (1.4.0)\n",
            "Requirement already satisfied: python-dateutil>=2.1 in /usr/local/lib/python3.7/dist-packages (from matplotlib>=3.0.2->pingouin) (2.8.2)\n",
            "Requirement already satisfied: pyparsing!=2.0.4,!=2.1.2,!=2.1.6,>=2.0.1 in /usr/local/lib/python3.7/dist-packages (from matplotlib>=3.0.2->pingouin) (3.0.7)\n",
            "Requirement already satisfied: cycler>=0.10 in /usr/local/lib/python3.7/dist-packages (from matplotlib>=3.0.2->pingouin) (0.11.0)\n",
            "Requirement already satisfied: typing-extensions in /usr/local/lib/python3.7/dist-packages (from kiwisolver>=1.0.1->matplotlib>=3.0.2->pingouin) (3.10.0.2)\n",
            "Requirement already satisfied: pytz>=2017.3 in /usr/local/lib/python3.7/dist-packages (from pandas>=1.0->pingouin) (2018.9)\n",
            "Requirement already satisfied: xarray in /usr/local/lib/python3.7/dist-packages (from pandas-flavor>=0.2.0->pingouin) (0.18.2)\n",
            "Requirement already satisfied: six>=1.5 in /usr/local/lib/python3.7/dist-packages (from python-dateutil>=2.1->matplotlib>=3.0.2->pingouin) (1.15.0)\n",
            "Requirement already satisfied: packaging>=21.3 in /usr/local/lib/python3.7/dist-packages (from statsmodels>=0.13->pingouin) (21.3)\n",
            "Requirement already satisfied: patsy>=0.5.2 in /usr/local/lib/python3.7/dist-packages (from statsmodels>=0.13->pingouin) (0.5.2)\n",
            "Requirement already satisfied: requests in /usr/local/lib/python3.7/dist-packages (from outdated->pingouin) (2.23.0)\n",
            "Requirement already satisfied: littleutils in /usr/local/lib/python3.7/dist-packages (from outdated->pingouin) (0.2.2)\n",
            "Requirement already satisfied: certifi>=2017.4.17 in /usr/local/lib/python3.7/dist-packages (from requests->outdated->pingouin) (2021.10.8)\n",
            "Requirement already satisfied: chardet<4,>=3.0.2 in /usr/local/lib/python3.7/dist-packages (from requests->outdated->pingouin) (3.0.4)\n",
            "Requirement already satisfied: idna<3,>=2.5 in /usr/local/lib/python3.7/dist-packages (from requests->outdated->pingouin) (2.10)\n",
            "Requirement already satisfied: urllib3!=1.25.0,!=1.25.1,<1.26,>=1.21.1 in /usr/local/lib/python3.7/dist-packages (from requests->outdated->pingouin) (1.24.3)\n",
            "Requirement already satisfied: joblib>=0.11 in /usr/local/lib/python3.7/dist-packages (from scikit-learn->pingouin) (1.1.0)\n",
            "Requirement already satisfied: threadpoolctl>=2.0.0 in /usr/local/lib/python3.7/dist-packages (from scikit-learn->pingouin) (3.1.0)\n",
            "Requirement already satisfied: setuptools>=40.4 in /usr/local/lib/python3.7/dist-packages (from xarray->pandas-flavor>=0.2.0->pingouin) (57.4.0)\n"
          ]
        }
      ]
    },
    {
      "cell_type": "markdown",
      "source": [
        "## ANOVA"
      ],
      "metadata": {
        "id": "F2Dp_wJWoRFN"
      }
    },
    {
      "cell_type": "markdown",
      "source": [
        "#### **Anova란 ?**\n",
        "\n",
        "- **Analysis of variance** = 분산분석 !\n",
        "    - 두개 이상의 평균을 비교할때 사용한다. \n",
        "    - 두개라고 했지만 두개에는 잘 안쓰고 세개에 주로 사용한다.\n",
        "\n",
        "***그럼 T - test를 두번 하면 되는거 아닌가 ?*** \n",
        "\n",
        "- 물론 가능하다 \n",
        "- 하지만, P-value (그런데 그일이 실제로 일어났습니다!)의 범위가 중복으로 두번이나 추가된다\n",
        "- 1종오류를 범할 확률이 처음에는 0.04라서 귀무가설을 기각하더라도 \n",
        "- 한번 더하게 되면 0.08이 되어서 귀무가설을 기각하지 못하는 꼴이 된다.\n",
        "- 그렇기 때문에 아노바 테스트를 사용한다!\n"
      ],
      "metadata": {
        "id": "t5m4b8xToZxe"
      }
    },
    {
      "cell_type": "markdown",
      "source": [
        "Familywise Error Rate: 여러 개의 가설 검정을 할 때 적어도 하나의 가설에서 1종 오류가 발생할 가능성\n",
        "\n",
        "가설검정을 많이 할 수록 FWER은 증가\n",
        "\n",
        "유의수준 5%에서 가설 검정을 1번 할 때, 1종 오류가 발생하지 않을 확률은 95%. `FWER = 100% - 95% = 5%`\n",
        "\n",
        "가설검정을 2번했을 때, 2번 모두 1종 오류가 발생하지 않을 확률은 \n",
        "```\n",
        "95% × 95% = 90.25%. FWER = 9.75%\n",
        "\n",
        "```\n",
        "\n",
        "\n",
        "\n",
        "가설검정을 3번했을 때, 3번 모두 1종 오류가 발생하지 않을 확률은 \n",
        "\n",
        "\n",
        "```\n",
        "95% \n",
        "×\n",
        " 95% \n",
        "×\n",
        " 95% = 85.74%. FWER = 14.26%\n",
        "```\n",
        "\n"
      ],
      "metadata": {
        "id": "YTHw_qSSIad8"
      }
    },
    {
      "cell_type": "markdown",
      "source": [
        "#### 그럼 왜 분산 분석이라고 해놓고 평균을 사용하는가 ? \n",
        "\n",
        "- 일단 Anova test 의 공식은 아래와 같다"
      ],
      "metadata": {
        "id": "nAJNUgOSDMMI"
      }
    },
    {
      "cell_type": "markdown",
      "source": [
        "![image.png](data:image/png;base64,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)"
      ],
      "metadata": {
        "id": "SP6NnN8oD10S"
      }
    },
    {
      "cell_type": "markdown",
      "source": [
        "- F값을 구하는데 (F = 표본 평균 간 변동/표본 내 변동) , F 명칭이 중요한건 아니고, 표본 내에서 퍼진 정도 분의 표본 평균간 퍼진 정도이다 \n",
        "- 이게 무슨말이냐면, 표본 평균간 퍼진 정도가 표본내에서 퍼진 정도보다 유의미하게 크다면 ? 차이가 있다고 볼수 있다는 말이다. \n",
        "---\n",
        "\n",
        "- 표본내에서 퍼진정도 => 이걸 집단이라고 유의미 하게 볼 수 있는가?\n",
        "- 표본 평균간 퍼진정도 => 집단끼리 얼마나 다르냐 ? \n",
        "\n",
        "---\n",
        "\n",
        "- 그럼 왜 평균을 쓰느냐 \n",
        "    - 분산이 0 이라면 => 데이터가 하나만 있다면 ? (데이터가 퍼진 정도가 없다면)=> 평균이 하나인데 분산도 없다 ? \n",
        "    - 평균을 통해서 데이터가 얼마나 퍼져있는지 볼 수 있기 때문이다. \n",
        "\n",
        "---"
      ],
      "metadata": {
        "id": "VLATgEZQD35f"
      }
    },
    {
      "cell_type": "markdown",
      "source": [
        "![image.png](data:image/png;base64,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)"
      ],
      "metadata": {
        "id": "gsSOYK5JrKFb"
      }
    },
    {
      "cell_type": "markdown",
      "source": [
        "1. 근데 평균이 늘 아래 그림처럼 정규분포는 아니지 않나 ? => 그럼 평균으로부터 데이터가 얼마나 퍼졌는지 알 수 있나?\n",
        "2. 그래서 정규성을 띄는지 먼저 테스트 해보아야 한다. \n",
        "3. 그것을 '정규성 검증' 이라고 하고 검정전 사전 test라고 생각하면 된다.\n",
        "4. t-test또한 정규성이 확보되어야 한다. \n",
        "5. 데이터의 분포는 표본수 n이 30이 넘어가게 되면 대부분 정규성을 따르는데 꼭 그렇지만은 않으니 정규성을 확인해볼것 ! "
      ],
      "metadata": {
        "id": "J_rWMhqMfC4A"
      }
    },
    {
      "cell_type": "markdown",
      "source": [
        "#### **분산분석  검정의 가정사항 (assumptions of ANOVA test)**\n",
        "\n",
        "    (1) 독립성: 각 샘플 데이터는 서로 독립이다.\n",
        "\n",
        "    (2) 정규성: 각 샘플 데이터는 정규분포를 따르는 모집단으로 부터 추출되었다. \n",
        "\n",
        "    (3) 등분산성: 그룹들의 모집단의 분산은 모두 동일하다. \n"
      ],
      "metadata": {
        "id": "RUYfApwtp0Z5"
      }
    },
    {
      "cell_type": "markdown",
      "source": [
        "#### **정규성 검정 종류**\n"
      ],
      "metadata": {
        "id": "n09AaKivccOO"
      }
    },
    {
      "cell_type": "markdown",
      "source": [
        "\n",
        "**1. Shaprio-Wilks test**\n",
        "\n",
        "\n",
        "- 샤피로 테스트\n",
        "- 표본수(n)가 2000 미만인 데이터셋에 적합한 정규성 검정\n",
        "- https://docs.scipy.org/doc/scipy/reference/generated/scipy.stats.shapiro.html\n",
        "\n",
        "**2. Kolmogorove-Smirnov test**\n",
        "\n",
        "\n",
        "- 콜모고로프 스미르노프 검정\n",
        "- 데이터의 **누적분포함수**와 **비교하고자 하는 분포의 누적분포함수 간의 최대 거리**를 통계량으로 사용하는 가설검정 방법\n",
        "- 서로 같은 분포로부터 나왔는지 보는\n",
        "- 정규분포에 국한되지 않고 두 표본이 같은 분포를 따르는지 확인할 수 있는 방법\n",
        "- 표본수(n)가 2000 초과인 데이터셋에 적합한 정규성 검정\n",
        "- https://docs.scipy.org/doc/scipy/reference/generated/scipy.stats.kstest.html\n",
        "\n",
        "**3. Quantile-Quantile plot (Graphic test)**\n",
        "\n",
        "- Q는 분위수(Quantile)의 약어\n",
        "- 비교하고자 하는 분포의 분위수끼리 좌표평면에 표시하여 그린 그림\n",
        "- 데이터셋이 정규분포를 따르는지 시각적으로 판단하는 분석 방법\n",
        "- 데이터 종류가 적다면, QQplot을 통해 시각적으로 가장 간단하며 직관적이다.\n",
        "- https://www.geeksforgeeks.org/qqplot-quantile-quantile-plot-in-python/"
      ],
      "metadata": {
        "id": "q3SyiwKUo48t"
      }
    },
    {
      "cell_type": "markdown",
      "source": [
        "**일원분산분석의 H0, H1**\n",
        "\n",
        "- 귀무가설(H0): 모든 집단의 평균이 동일하다\n",
        "- 대립가설(H1): 적어도 한 집단의 평균이 다른 집단들과 다르다\n",
        "\n",
        "**정규성 검정의 H0, H1**\n",
        "\n",
        "- 귀무가설(H0) : 데이터셋이 정규분포를 따른다.\n",
        "- 대립가설(H1) : 데이터셋이 정규분포를 따르지 않는다.\n",
        "\n",
        "- 귀무가설을 기각하고 대립가설이 채택된다면 (p<0.01 or 0.05) 해당 데이터셋은 정규분포를 따르지 않는 것이다."
      ],
      "metadata": {
        "id": "VfndoRMDjmzS"
      }
    },
    {
      "cell_type": "markdown",
      "source": [
        "#### **One Way Anova test** & 등분산성과 정규성 검정 같이 해보기\n",
        "\n",
        "- by using seaborn taxis data"
      ],
      "metadata": {
        "id": "BfJ3aYa7kCqZ"
      }
    },
    {
      "cell_type": "code",
      "source": [
        "from google.colab import drive\n",
        "drive.mount('/content/drive')"
      ],
      "metadata": {
        "id": "mG18yk8HupPw",
        "outputId": "68dd4db4-8a80-4dad-e583-d39ea42b9b67",
        "colab": {
          "base_uri": "https://localhost:8080/"
        }
      },
      "execution_count": 2,
      "outputs": [
        {
          "output_type": "stream",
          "name": "stdout",
          "text": [
            "Mounted at /content/drive\n"
          ]
        }
      ]
    },
    {
      "cell_type": "code",
      "execution_count": 3,
      "metadata": {
        "id": "fknnbjccjUHh"
      },
      "outputs": [],
      "source": [
        "import pandas as pd \n",
        "import numpy as np \n",
        "\n",
        "import os\n",
        "import sys\n",
        "import warnings\n",
        "warnings.filterwarnings('ignore')\n",
        "\n",
        "import sklearn \n",
        "import missingno as msno\n",
        "import matplotlib.pyplot as plt\n",
        "%matplotlib inline\n",
        "import seaborn as sns\n",
        "plt.style.use('seaborn')\n",
        "sns.set(font_scale=2.5)\n",
        "\n",
        "import scipy \n",
        "from scipy import  stats\n",
        "import statsmodels.api as sm\n",
        "import pylab as py"
      ]
    },
    {
      "cell_type": "code",
      "source": [
        "df = pd.read_csv('/content/drive/MyDrive/DATA/df_sessioned.csv')\n",
        "df.head()"
      ],
      "metadata": {
        "id": "y90-xN6vvqUD",
        "outputId": "c14e7e75-05ef-4f19-8a0b-3ba8ac6c6afe",
        "colab": {
          "base_uri": "https://localhost:8080/",
          "height": 403
        }
      },
      "execution_count": 4,
      "outputs": [
        {
          "output_type": "execute_result",
          "data": {
            "text/plain": [
              "   Unnamed: 0            event_time event_type  product_id  \\\n",
              "0           0  2020-09-24 11:57:06        view     1996170   \n",
              "1           1  2020-09-24 11:57:26        view      139905   \n",
              "2           2  2020-09-24 11:57:27        view      215454   \n",
              "3           3  2020-09-24 11:57:33        view      635807   \n",
              "4           4  2020-09-24 11:57:36        view     3658723   \n",
              "\n",
              "           category_id                  category_code        brand   price  \\\n",
              "0  2144415922528452715          electronics.telephone          NaN   31.90   \n",
              "1  2144415926932472027    computers.components.cooler       zalman   17.16   \n",
              "2  2144415927158964449                            NaN          NaN    9.81   \n",
              "3  2144415923107266682  computers.peripherals.printer       pantum  113.81   \n",
              "4  2144415921169498184                            NaN  cameronsino   15.87   \n",
              "\n",
              "               user_id user_session  ...              diff check_      coh  \\\n",
              "0  1515915625519388267   LJuJVLEjPT  ...   0 days 00:01:17  False    150.0   \n",
              "1  1515915625519380411   tdicluNnRY  ...   0 days 00:17:45  False   1392.0   \n",
              "2  1515915625513238515   4TMArHtXQy  ...   3 days 01:03:40    New  13454.0   \n",
              "3  1515915625519014356   aGFYrNgC08  ...   2 days 03:21:40    New    516.0   \n",
              "4  1515915625510743344   aa4mmk0kwQ  ...  11 days 22:16:15    New   6274.0   \n",
              "\n",
              "  new_session New_sessoion   start_day  start_week start_month  \\\n",
              "0         New          new  2020-09-24  2020-09-23  2020-09-01   \n",
              "1         New          new  2020-09-24  2020-09-23  2020-09-01   \n",
              "2         New          new  2020-09-24  2020-09-23  2020-09-01   \n",
              "3         New          new  2020-09-24  2020-09-23  2020-09-01   \n",
              "4         New          new  2020-09-24  2020-09-23  2020-09-01   \n",
              "\n",
              "   New_sessoion.1 Session  \n",
              "0            True   14722  \n",
              "1            True   14697  \n",
              "2            True   10665  \n",
              "3            True   14341  \n",
              "4            True    9870  \n",
              "\n",
              "[5 rows x 26 columns]"
            ],
            "text/html": [
              "\n",
              "  <div id=\"df-8be01876-2cea-4e0d-ae1f-30c15bec646c\">\n",
              "    <div class=\"colab-df-container\">\n",
              "      <div>\n",
              "<style scoped>\n",
              "    .dataframe tbody tr th:only-of-type {\n",
              "        vertical-align: middle;\n",
              "    }\n",
              "\n",
              "    .dataframe tbody tr th {\n",
              "        vertical-align: top;\n",
              "    }\n",
              "\n",
              "    .dataframe thead th {\n",
              "        text-align: right;\n",
              "    }\n",
              "</style>\n",
              "<table border=\"1\" class=\"dataframe\">\n",
              "  <thead>\n",
              "    <tr style=\"text-align: right;\">\n",
              "      <th></th>\n",
              "      <th>Unnamed: 0</th>\n",
              "      <th>event_time</th>\n",
              "      <th>event_type</th>\n",
              "      <th>product_id</th>\n",
              "      <th>category_id</th>\n",
              "      <th>category_code</th>\n",
              "      <th>brand</th>\n",
              "      <th>price</th>\n",
              "      <th>user_id</th>\n",
              "      <th>user_session</th>\n",
              "      <th>...</th>\n",
              "      <th>diff</th>\n",
              "      <th>check_</th>\n",
              "      <th>coh</th>\n",
              "      <th>new_session</th>\n",
              "      <th>New_sessoion</th>\n",
              "      <th>start_day</th>\n",
              "      <th>start_week</th>\n",
              "      <th>start_month</th>\n",
              "      <th>New_sessoion.1</th>\n",
              "      <th>Session</th>\n",
              "    </tr>\n",
              "  </thead>\n",
              "  <tbody>\n",
              "    <tr>\n",
              "      <th>0</th>\n",
              "      <td>0</td>\n",
              "      <td>2020-09-24 11:57:06</td>\n",
              "      <td>view</td>\n",
              "      <td>1996170</td>\n",
              "      <td>2144415922528452715</td>\n",
              "      <td>electronics.telephone</td>\n",
              "      <td>NaN</td>\n",
              "      <td>31.90</td>\n",
              "      <td>1515915625519388267</td>\n",
              "      <td>LJuJVLEjPT</td>\n",
              "      <td>...</td>\n",
              "      <td>0 days 00:01:17</td>\n",
              "      <td>False</td>\n",
              "      <td>150.0</td>\n",
              "      <td>New</td>\n",
              "      <td>new</td>\n",
              "      <td>2020-09-24</td>\n",
              "      <td>2020-09-23</td>\n",
              "      <td>2020-09-01</td>\n",
              "      <td>True</td>\n",
              "      <td>14722</td>\n",
              "    </tr>\n",
              "    <tr>\n",
              "      <th>1</th>\n",
              "      <td>1</td>\n",
              "      <td>2020-09-24 11:57:26</td>\n",
              "      <td>view</td>\n",
              "      <td>139905</td>\n",
              "      <td>2144415926932472027</td>\n",
              "      <td>computers.components.cooler</td>\n",
              "      <td>zalman</td>\n",
              "      <td>17.16</td>\n",
              "      <td>1515915625519380411</td>\n",
              "      <td>tdicluNnRY</td>\n",
              "      <td>...</td>\n",
              "      <td>0 days 00:17:45</td>\n",
              "      <td>False</td>\n",
              "      <td>1392.0</td>\n",
              "      <td>New</td>\n",
              "      <td>new</td>\n",
              "      <td>2020-09-24</td>\n",
              "      <td>2020-09-23</td>\n",
              "      <td>2020-09-01</td>\n",
              "      <td>True</td>\n",
              "      <td>14697</td>\n",
              "    </tr>\n",
              "    <tr>\n",
              "      <th>2</th>\n",
              "      <td>2</td>\n",
              "      <td>2020-09-24 11:57:27</td>\n",
              "      <td>view</td>\n",
              "      <td>215454</td>\n",
              "      <td>2144415927158964449</td>\n",
              "      <td>NaN</td>\n",
              "      <td>NaN</td>\n",
              "      <td>9.81</td>\n",
              "      <td>1515915625513238515</td>\n",
              "      <td>4TMArHtXQy</td>\n",
              "      <td>...</td>\n",
              "      <td>3 days 01:03:40</td>\n",
              "      <td>New</td>\n",
              "      <td>13454.0</td>\n",
              "      <td>New</td>\n",
              "      <td>new</td>\n",
              "      <td>2020-09-24</td>\n",
              "      <td>2020-09-23</td>\n",
              "      <td>2020-09-01</td>\n",
              "      <td>True</td>\n",
              "      <td>10665</td>\n",
              "    </tr>\n",
              "    <tr>\n",
              "      <th>3</th>\n",
              "      <td>3</td>\n",
              "      <td>2020-09-24 11:57:33</td>\n",
              "      <td>view</td>\n",
              "      <td>635807</td>\n",
              "      <td>2144415923107266682</td>\n",
              "      <td>computers.peripherals.printer</td>\n",
              "      <td>pantum</td>\n",
              "      <td>113.81</td>\n",
              "      <td>1515915625519014356</td>\n",
              "      <td>aGFYrNgC08</td>\n",
              "      <td>...</td>\n",
              "      <td>2 days 03:21:40</td>\n",
              "      <td>New</td>\n",
              "      <td>516.0</td>\n",
              "      <td>New</td>\n",
              "      <td>new</td>\n",
              "      <td>2020-09-24</td>\n",
              "      <td>2020-09-23</td>\n",
              "      <td>2020-09-01</td>\n",
              "      <td>True</td>\n",
              "      <td>14341</td>\n",
              "    </tr>\n",
              "    <tr>\n",
              "      <th>4</th>\n",
              "      <td>4</td>\n",
              "      <td>2020-09-24 11:57:36</td>\n",
              "      <td>view</td>\n",
              "      <td>3658723</td>\n",
              "      <td>2144415921169498184</td>\n",
              "      <td>NaN</td>\n",
              "      <td>cameronsino</td>\n",
              "      <td>15.87</td>\n",
              "      <td>1515915625510743344</td>\n",
              "      <td>aa4mmk0kwQ</td>\n",
              "      <td>...</td>\n",
              "      <td>11 days 22:16:15</td>\n",
              "      <td>New</td>\n",
              "      <td>6274.0</td>\n",
              "      <td>New</td>\n",
              "      <td>new</td>\n",
              "      <td>2020-09-24</td>\n",
              "      <td>2020-09-23</td>\n",
              "      <td>2020-09-01</td>\n",
              "      <td>True</td>\n",
              "      <td>9870</td>\n",
              "    </tr>\n",
              "  </tbody>\n",
              "</table>\n",
              "<p>5 rows × 26 columns</p>\n",
              "</div>\n",
              "      <button class=\"colab-df-convert\" onclick=\"convertToInteractive('df-8be01876-2cea-4e0d-ae1f-30c15bec646c')\"\n",
              "              title=\"Convert this dataframe to an interactive table.\"\n",
              "              style=\"display:none;\">\n",
              "        \n",
              "  <svg xmlns=\"http://www.w3.org/2000/svg\" height=\"24px\"viewBox=\"0 0 24 24\"\n",
              "       width=\"24px\">\n",
              "    <path d=\"M0 0h24v24H0V0z\" fill=\"none\"/>\n",
              "    <path d=\"M18.56 5.44l.94 2.06.94-2.06 2.06-.94-2.06-.94-.94-2.06-.94 2.06-2.06.94zm-11 1L8.5 8.5l.94-2.06 2.06-.94-2.06-.94L8.5 2.5l-.94 2.06-2.06.94zm10 10l.94 2.06.94-2.06 2.06-.94-2.06-.94-.94-2.06-.94 2.06-2.06.94z\"/><path d=\"M17.41 7.96l-1.37-1.37c-.4-.4-.92-.59-1.43-.59-.52 0-1.04.2-1.43.59L10.3 9.45l-7.72 7.72c-.78.78-.78 2.05 0 2.83L4 21.41c.39.39.9.59 1.41.59.51 0 1.02-.2 1.41-.59l7.78-7.78 2.81-2.81c.8-.78.8-2.07 0-2.86zM5.41 20L4 18.59l7.72-7.72 1.47 1.35L5.41 20z\"/>\n",
              "  </svg>\n",
              "      </button>\n",
              "      \n",
              "  <style>\n",
              "    .colab-df-container {\n",
              "      display:flex;\n",
              "      flex-wrap:wrap;\n",
              "      gap: 12px;\n",
              "    }\n",
              "\n",
              "    .colab-df-convert {\n",
              "      background-color: #E8F0FE;\n",
              "      border: none;\n",
              "      border-radius: 50%;\n",
              "      cursor: pointer;\n",
              "      display: none;\n",
              "      fill: #1967D2;\n",
              "      height: 32px;\n",
              "      padding: 0 0 0 0;\n",
              "      width: 32px;\n",
              "    }\n",
              "\n",
              "    .colab-df-convert:hover {\n",
              "      background-color: #E2EBFA;\n",
              "      box-shadow: 0px 1px 2px rgba(60, 64, 67, 0.3), 0px 1px 3px 1px rgba(60, 64, 67, 0.15);\n",
              "      fill: #174EA6;\n",
              "    }\n",
              "\n",
              "    [theme=dark] .colab-df-convert {\n",
              "      background-color: #3B4455;\n",
              "      fill: #D2E3FC;\n",
              "    }\n",
              "\n",
              "    [theme=dark] .colab-df-convert:hover {\n",
              "      background-color: #434B5C;\n",
              "      box-shadow: 0px 1px 3px 1px rgba(0, 0, 0, 0.15);\n",
              "      filter: drop-shadow(0px 1px 2px rgba(0, 0, 0, 0.3));\n",
              "      fill: #FFFFFF;\n",
              "    }\n",
              "  </style>\n",
              "\n",
              "      <script>\n",
              "        const buttonEl =\n",
              "          document.querySelector('#df-8be01876-2cea-4e0d-ae1f-30c15bec646c button.colab-df-convert');\n",
              "        buttonEl.style.display =\n",
              "          google.colab.kernel.accessAllowed ? 'block' : 'none';\n",
              "\n",
              "        async function convertToInteractive(key) {\n",
              "          const element = document.querySelector('#df-8be01876-2cea-4e0d-ae1f-30c15bec646c');\n",
              "          const dataTable =\n",
              "            await google.colab.kernel.invokeFunction('convertToInteractive',\n",
              "                                                     [key], {});\n",
              "          if (!dataTable) return;\n",
              "\n",
              "          const docLinkHtml = 'Like what you see? Visit the ' +\n",
              "            '<a target=\"_blank\" href=https://colab.research.google.com/notebooks/data_table.ipynb>data table notebook</a>'\n",
              "            + ' to learn more about interactive tables.';\n",
              "          element.innerHTML = '';\n",
              "          dataTable['output_type'] = 'display_data';\n",
              "          await google.colab.output.renderOutput(dataTable, element);\n",
              "          const docLink = document.createElement('div');\n",
              "          docLink.innerHTML = docLinkHtml;\n",
              "          element.appendChild(docLink);\n",
              "        }\n",
              "      </script>\n",
              "    </div>\n",
              "  </div>\n",
              "  "
            ]
          },
          "metadata": {},
          "execution_count": 4
        }
      ]
    },
    {
      "cell_type": "code",
      "source": [
        "df.columns"
      ],
      "metadata": {
        "id": "OV1g2SUGEZ3R",
        "outputId": "192ef7ef-65c0-4efc-9c94-a9c0885fbe2d",
        "colab": {
          "base_uri": "https://localhost:8080/"
        }
      },
      "execution_count": 5,
      "outputs": [
        {
          "output_type": "execute_result",
          "data": {
            "text/plain": [
              "Index(['Unnamed: 0', 'event_time', 'event_type', 'product_id', 'category_id',\n",
              "       'category_code', 'brand', 'price', 'user_id', 'user_session', 'date',\n",
              "       '\btime', 'main_category', 'mdi_category', 'sub_category', 'date_',\n",
              "       'diff', 'check_', 'coh', 'new_session', 'New_sessoion', 'start_day',\n",
              "       'start_week', 'start_month', 'New_sessoion.1', 'Session'],\n",
              "      dtype='object')"
            ]
          },
          "metadata": {},
          "execution_count": 5
        }
      ]
    },
    {
      "cell_type": "code",
      "source": [
        "x1 = df.price.sample(n=200, random_state = 424)\n",
        "x2 = df.price.sample(n=200, random_state = 111)\n",
        "x3 = df.price.sample(n=200, random_state = 6666)"
      ],
      "metadata": {
        "id": "qU-Jn1y9_1g6"
      },
      "execution_count": 6,
      "outputs": []
    },
    {
      "cell_type": "code",
      "source": [
        "# 등분산 검정\n",
        "print(stats.bartlett(x1,x2,x3),\n",
        "      stats.fligner(x1, x2, x3) ,\n",
        "      stats.levene(x1, x2, x3), sep=\"\\n\")"
      ],
      "metadata": {
        "id": "6vw7F_24AvD0",
        "outputId": "d346931d-1a7e-425d-c42e-3d6602029bb0",
        "colab": {
          "base_uri": "https://localhost:8080/"
        }
      },
      "execution_count": 7,
      "outputs": [
        {
          "output_type": "stream",
          "name": "stdout",
          "text": [
            "BartlettResult(statistic=41.38447604305276, pvalue=1.031514195488102e-09)\n",
            "FlignerResult(statistic=0.5341116682822381, pvalue=0.7656303219605027)\n",
            "LeveneResult(statistic=0.9538356438704861, pvalue=0.3858467822876003)\n"
          ]
        }
      ]
    },
    {
      "cell_type": "markdown",
      "source": [
        "- 등분산 검정은 **Bartlett 검정**으로 진행했을때 P value가 0.05 미만이여서 **귀무가설 기각 -> 등분산이 아님** \n",
        "- 나머지는 등분산이라고 했으므로 **등분산인 경우와 아닌경우 모두 살펴본다**. "
      ],
      "metadata": {
        "id": "LaO2C8nAA09E"
      }
    },
    {
      "cell_type": "markdown",
      "source": [
        "#### Kolmogorove-Smirnov test"
      ],
      "metadata": {
        "id": "U_Rf5_0L8o9d"
      }
    },
    {
      "cell_type": "code",
      "source": [
        "# 정규성 검정\n",
        "print(stats.ks_2samp(x1, x2), \n",
        "      stats.ks_2samp(x1, x3), \n",
        "      stats.ks_2samp(x3, x2),  sep=\"\\n\")"
      ],
      "metadata": {
        "id": "eC22JACoBEr1",
        "outputId": "4be6ad6d-1da0-454e-bf1e-36a714329766",
        "colab": {
          "base_uri": "https://localhost:8080/"
        }
      },
      "execution_count": 8,
      "outputs": [
        {
          "output_type": "stream",
          "name": "stdout",
          "text": [
            "KstestResult(statistic=0.07, pvalue=0.7125821300149116)\n",
            "KstestResult(statistic=0.055, pvalue=0.9238374197330625)\n",
            "KstestResult(statistic=0.095, pvalue=0.32811544409418575)\n"
          ]
        }
      ]
    },
    {
      "cell_type": "markdown",
      "source": [
        "- 콜모고로프-스미르노프 검정 : 정규분포에 국한되지 않고 두 표본이 같은 분포를 따르는지 확인할 수 있는 방법\n",
        "- 모두 P value가 0.05를 넘으므로 **귀무가설 기각실패 -> 정규성을 만족한다.**\n"
      ],
      "metadata": {
        "id": "h7rYHsyABLt3"
      }
    },
    {
      "cell_type": "code",
      "source": [
        "print(\"x1 : \", stats.shapiro(x1),\"x2 : \",stats.shapiro(x2),\"x3 : \",stats.shapiro(x3),sep=\"\\n\")"
      ],
      "metadata": {
        "colab": {
          "base_uri": "https://localhost:8080/"
        },
        "id": "kaIme0o1BzYZ",
        "outputId": "dd4c6c04-d45f-4cc1-d732-7d998b096e38"
      },
      "execution_count": 9,
      "outputs": [
        {
          "output_type": "stream",
          "name": "stdout",
          "text": [
            "x1 : \n",
            "ShapiroResult(statistic=0.6035934686660767, pvalue=3.081034726206746e-21)\n",
            "x2 : \n",
            "ShapiroResult(statistic=0.6812300682067871, pvalue=3.1767067508941203e-19)\n",
            "x3 : \n",
            "ShapiroResult(statistic=0.7777526378631592, pvalue=3.947802985563968e-16)\n"
          ]
        }
      ]
    },
    {
      "cell_type": "code",
      "source": [
        "fig = plt.figure()\n",
        "sm.qqplot(x1)\n",
        "py.show()"
      ],
      "metadata": {
        "colab": {
          "base_uri": "https://localhost:8080/",
          "height": 422
        },
        "id": "4I6oRUU0j3IZ",
        "outputId": "8ff00aed-5131-4c63-a9b3-8b3f353ae27d"
      },
      "execution_count": 10,
      "outputs": [
        {
          "output_type": "display_data",
          "data": {
            "text/plain": [
              "<Figure size 576x396 with 0 Axes>"
            ]
          },
          "metadata": {}
        },
        {
          "output_type": "display_data",
          "data": {
            "text/plain": [
              "<Figure size 576x396 with 1 Axes>"
            ],
            "image/png": "[encoded data removed]"
          },
          "metadata": {}
        }
      ]
    },
    {
      "cell_type": "code",
      "source": [
        "from scipy.stats import probplot\n",
        "plt.figure()\n",
        "probplot(x2, plot = plt)\n",
        "plt.show()"
      ],
      "metadata": {
        "colab": {
          "base_uri": "https://localhost:8080/",
          "height": 433
        },
        "id": "sKcoxDlv9SN7",
        "outputId": "05def1d7-e1f0-4340-b75d-e1d547d7eefb"
      },
      "execution_count": 11,
      "outputs": [
        {
          "output_type": "display_data",
          "data": {
            "text/plain": [
              "<Figure size 576x396 with 1 Axes>"
            ],
            "image/png": "[encoded data removed]"
          },
          "metadata": {}
        }
      ]
    },
    {
      "cell_type": "code",
      "source": [
        "# def Normality_taxis(x):\n",
        "#   df = pd.read_csv('/content/drive/MyDrive/data/e-Coupon/df.csv')\n",
        "#   Key = df[x]\n",
        "#   print(stats.shapiro(Key))\n",
        "#   plt.figure()\n",
        "#   probplot(Key, plot = plt)\n",
        "#   return plt.show()"
      ],
      "metadata": {
        "id": "auNQ4W_zCqPk"
      },
      "execution_count": 12,
      "outputs": []
    },
    {
      "cell_type": "markdown",
      "source": [
        "\n",
        "\n",
        "---\n",
        "\n"
      ],
      "metadata": {
        "id": "jQJ2cnCOmszA"
      }
    },
    {
      "cell_type": "markdown",
      "source": [
        "#### **one way anova**\n"
      ],
      "metadata": {
        "id": "BXWPsZphm5Ju"
      }
    },
    {
      "cell_type": "markdown",
      "source": [
        "cohort 별로 이벤트한 가격(price)은 차이가 있을것인가? : 가설\n"
      ],
      "metadata": {
        "id": "FRUpHj3TGqsN"
      }
    },
    {
      "cell_type": "code",
      "source": [
        "dt = df.loc[:,['coh','price']]\n",
        "dt.groupby(\"coh\").sum()"
      ],
      "metadata": {
        "id": "N71vjqN5FUaQ",
        "outputId": "30e8f806-24f3-4821-e0a4-015ad5fb2282",
        "colab": {
          "base_uri": "https://localhost:8080/",
          "height": 455
        }
      },
      "execution_count": 13,
      "outputs": [
        {
          "output_type": "execute_result",
          "data": {
            "text/plain": [
              "                 price\n",
              "coh                   \n",
              "0.0        76980306.77\n",
              "1.0          439662.94\n",
              "2.0          379123.13\n",
              "3.0          379828.05\n",
              "4.0          392205.04\n",
              "...                ...\n",
              "404270.0         16.98\n",
              "457319.0         10.92\n",
              "561967.0        100.05\n",
              "1557727.0        59.05\n",
              "1978704.0        58.25\n",
              "\n",
              "[9730 rows x 1 columns]"
            ],
            "text/html": [
              "\n",
              "  <div id=\"df-987b8a10-31f6-450c-b08e-0673de41e2c5\">\n",
              "    <div class=\"colab-df-container\">\n",
              "      <div>\n",
              "<style scoped>\n",
              "    .dataframe tbody tr th:only-of-type {\n",
              "        vertical-align: middle;\n",
              "    }\n",
              "\n",
              "    .dataframe tbody tr th {\n",
              "        vertical-align: top;\n",
              "    }\n",
              "\n",
              "    .dataframe thead th {\n",
              "        text-align: right;\n",
              "    }\n",
              "</style>\n",
              "<table border=\"1\" class=\"dataframe\">\n",
              "  <thead>\n",
              "    <tr style=\"text-align: right;\">\n",
              "      <th></th>\n",
              "      <th>price</th>\n",
              "    </tr>\n",
              "    <tr>\n",
              "      <th>coh</th>\n",
              "      <th></th>\n",
              "    </tr>\n",
              "  </thead>\n",
              "  <tbody>\n",
              "    <tr>\n",
              "      <th>0.0</th>\n",
              "      <td>76980306.77</td>\n",
              "    </tr>\n",
              "    <tr>\n",
              "      <th>1.0</th>\n",
              "      <td>439662.94</td>\n",
              "    </tr>\n",
              "    <tr>\n",
              "      <th>2.0</th>\n",
              "      <td>379123.13</td>\n",
              "    </tr>\n",
              "    <tr>\n",
              "      <th>3.0</th>\n",
              "      <td>379828.05</td>\n",
              "    </tr>\n",
              "    <tr>\n",
              "      <th>4.0</th>\n",
              "      <td>392205.04</td>\n",
              "    </tr>\n",
              "    <tr>\n",
              "      <th>...</th>\n",
              "      <td>...</td>\n",
              "    </tr>\n",
              "    <tr>\n",
              "      <th>404270.0</th>\n",
              "      <td>16.98</td>\n",
              "    </tr>\n",
              "    <tr>\n",
              "      <th>457319.0</th>\n",
              "      <td>10.92</td>\n",
              "    </tr>\n",
              "    <tr>\n",
              "      <th>561967.0</th>\n",
              "      <td>100.05</td>\n",
              "    </tr>\n",
              "    <tr>\n",
              "      <th>1557727.0</th>\n",
              "      <td>59.05</td>\n",
              "    </tr>\n",
              "    <tr>\n",
              "      <th>1978704.0</th>\n",
              "      <td>58.25</td>\n",
              "    </tr>\n",
              "  </tbody>\n",
              "</table>\n",
              "<p>9730 rows × 1 columns</p>\n",
              "</div>\n",
              "      <button class=\"colab-df-convert\" onclick=\"convertToInteractive('df-987b8a10-31f6-450c-b08e-0673de41e2c5')\"\n",
              "              title=\"Convert this dataframe to an interactive table.\"\n",
              "              style=\"display:none;\">\n",
              "        \n",
              "  <svg xmlns=\"http://www.w3.org/2000/svg\" height=\"24px\"viewBox=\"0 0 24 24\"\n",
              "       width=\"24px\">\n",
              "    <path d=\"M0 0h24v24H0V0z\" fill=\"none\"/>\n",
              "    <path d=\"M18.56 5.44l.94 2.06.94-2.06 2.06-.94-2.06-.94-.94-2.06-.94 2.06-2.06.94zm-11 1L8.5 8.5l.94-2.06 2.06-.94-2.06-.94L8.5 2.5l-.94 2.06-2.06.94zm10 10l.94 2.06.94-2.06 2.06-.94-2.06-.94-.94-2.06-.94 2.06-2.06.94z\"/><path d=\"M17.41 7.96l-1.37-1.37c-.4-.4-.92-.59-1.43-.59-.52 0-1.04.2-1.43.59L10.3 9.45l-7.72 7.72c-.78.78-.78 2.05 0 2.83L4 21.41c.39.39.9.59 1.41.59.51 0 1.02-.2 1.41-.59l7.78-7.78 2.81-2.81c.8-.78.8-2.07 0-2.86zM5.41 20L4 18.59l7.72-7.72 1.47 1.35L5.41 20z\"/>\n",
              "  </svg>\n",
              "      </button>\n",
              "      \n",
              "  <style>\n",
              "    .colab-df-container {\n",
              "      display:flex;\n",
              "      flex-wrap:wrap;\n",
              "      gap: 12px;\n",
              "    }\n",
              "\n",
              "    .colab-df-convert {\n",
              "      background-color: #E8F0FE;\n",
              "      border: none;\n",
              "      border-radius: 50%;\n",
              "      cursor: pointer;\n",
              "      display: none;\n",
              "      fill: #1967D2;\n",
              "      height: 32px;\n",
              "      padding: 0 0 0 0;\n",
              "      width: 32px;\n",
              "    }\n",
              "\n",
              "    .colab-df-convert:hover {\n",
              "      background-color: #E2EBFA;\n",
              "      box-shadow: 0px 1px 2px rgba(60, 64, 67, 0.3), 0px 1px 3px 1px rgba(60, 64, 67, 0.15);\n",
              "      fill: #174EA6;\n",
              "    }\n",
              "\n",
              "    [theme=dark] .colab-df-convert {\n",
              "      background-color: #3B4455;\n",
              "      fill: #D2E3FC;\n",
              "    }\n",
              "\n",
              "    [theme=dark] .colab-df-convert:hover {\n",
              "      background-color: #434B5C;\n",
              "      box-shadow: 0px 1px 3px 1px rgba(0, 0, 0, 0.15);\n",
              "      filter: drop-shadow(0px 1px 2px rgba(0, 0, 0, 0.3));\n",
              "      fill: #FFFFFF;\n",
              "    }\n",
              "  </style>\n",
              "\n",
              "      <script>\n",
              "        const buttonEl =\n",
              "          document.querySelector('#df-987b8a10-31f6-450c-b08e-0673de41e2c5 button.colab-df-convert');\n",
              "        buttonEl.style.display =\n",
              "          google.colab.kernel.accessAllowed ? 'block' : 'none';\n",
              "\n",
              "        async function convertToInteractive(key) {\n",
              "          const element = document.querySelector('#df-987b8a10-31f6-450c-b08e-0673de41e2c5');\n",
              "          const dataTable =\n",
              "            await google.colab.kernel.invokeFunction('convertToInteractive',\n",
              "                                                     [key], {});\n",
              "          if (!dataTable) return;\n",
              "\n",
              "          const docLinkHtml = 'Like what you see? Visit the ' +\n",
              "            '<a target=\"_blank\" href=https://colab.research.google.com/notebooks/data_table.ipynb>data table notebook</a>'\n",
              "            + ' to learn more about interactive tables.';\n",
              "          element.innerHTML = '';\n",
              "          dataTable['output_type'] = 'display_data';\n",
              "          await google.colab.output.renderOutput(dataTable, element);\n",
              "          const docLink = document.createElement('div');\n",
              "          docLink.innerHTML = docLinkHtml;\n",
              "          element.appendChild(docLink);\n",
              "        }\n",
              "      </script>\n",
              "    </div>\n",
              "  </div>\n",
              "  "
            ]
          },
          "metadata": {},
          "execution_count": 13
        }
      ]
    },
    {
      "cell_type": "markdown",
      "source": [
        "- 데이터를 랜덤하게 분할해준다 "
      ],
      "metadata": {
        "id": "QPnw4-vhK5_Q"
      }
    },
    {
      "cell_type": "code",
      "source": [
        "dt_group1 = dt.sample(frac = 0.5, random_state = 1)\n",
        "dt_group2 = dt.drop(dt_group1.index)\n",
        "dt_group2 = dt.sample(frac = 0.5, random_state = 2)\n",
        "dt_group3 = dt.drop(dt_group2.index)\n",
        "print(len(dt_group1),len(dt_group2),len(dt_group3))"
      ],
      "metadata": {
        "id": "N2n9tB8KEJg1",
        "outputId": "5ab1399e-9a07-42fc-ebc0-9d6b8a93585b",
        "colab": {
          "base_uri": "https://localhost:8080/"
        }
      },
      "execution_count": 28,
      "outputs": [
        {
          "output_type": "stream",
          "name": "stdout",
          "text": [
            "442564 442564 442565\n"
          ]
        }
      ]
    },
    {
      "cell_type": "code",
      "source": [
        "dt_group1"
      ],
      "metadata": {
        "id": "zCDei3zWGesA",
        "outputId": "338c69b2-31ca-40d7-f41d-514795139fdf",
        "colab": {
          "base_uri": "https://localhost:8080/",
          "height": 423
        }
      },
      "execution_count": 30,
      "outputs": [
        {
          "output_type": "execute_result",
          "data": {
            "text/plain": [
              "         coh   price\n",
              "793654   0.0   88.24\n",
              "230478   0.0  415.54\n",
              "376830   0.0  126.68\n",
              "50194    0.0  136.02\n",
              "393590   0.0  123.27\n",
              "...      ...     ...\n",
              "821435   0.0   16.51\n",
              "479493   0.0  205.25\n",
              "836735   0.0  415.54\n",
              "714061  38.0   62.84\n",
              "152454   0.0  486.81\n",
              "\n",
              "[442564 rows x 2 columns]"
            ],
            "text/html": [
              "\n",
              "  <div id=\"df-700849ba-1a91-402b-9ce2-d0c75df2d6b9\">\n",
              "    <div class=\"colab-df-container\">\n",
              "      <div>\n",
              "<style scoped>\n",
              "    .dataframe tbody tr th:only-of-type {\n",
              "        vertical-align: middle;\n",
              "    }\n",
              "\n",
              "    .dataframe tbody tr th {\n",
              "        vertical-align: top;\n",
              "    }\n",
              "\n",
              "    .dataframe thead th {\n",
              "        text-align: right;\n",
              "    }\n",
              "</style>\n",
              "<table border=\"1\" class=\"dataframe\">\n",
              "  <thead>\n",
              "    <tr style=\"text-align: right;\">\n",
              "      <th></th>\n",
              "      <th>coh</th>\n",
              "      <th>price</th>\n",
              "    </tr>\n",
              "  </thead>\n",
              "  <tbody>\n",
              "    <tr>\n",
              "      <th>793654</th>\n",
              "      <td>0.0</td>\n",
              "      <td>88.24</td>\n",
              "    </tr>\n",
              "    <tr>\n",
              "      <th>230478</th>\n",
              "      <td>0.0</td>\n",
              "      <td>415.54</td>\n",
              "    </tr>\n",
              "    <tr>\n",
              "      <th>376830</th>\n",
              "      <td>0.0</td>\n",
              "      <td>126.68</td>\n",
              "    </tr>\n",
              "    <tr>\n",
              "      <th>50194</th>\n",
              "      <td>0.0</td>\n",
              "      <td>136.02</td>\n",
              "    </tr>\n",
              "    <tr>\n",
              "      <th>393590</th>\n",
              "      <td>0.0</td>\n",
              "      <td>123.27</td>\n",
              "    </tr>\n",
              "    <tr>\n",
              "      <th>...</th>\n",
              "      <td>...</td>\n",
              "      <td>...</td>\n",
              "    </tr>\n",
              "    <tr>\n",
              "      <th>821435</th>\n",
              "      <td>0.0</td>\n",
              "      <td>16.51</td>\n",
              "    </tr>\n",
              "    <tr>\n",
              "      <th>479493</th>\n",
              "      <td>0.0</td>\n",
              "      <td>205.25</td>\n",
              "    </tr>\n",
              "    <tr>\n",
              "      <th>836735</th>\n",
              "      <td>0.0</td>\n",
              "      <td>415.54</td>\n",
              "    </tr>\n",
              "    <tr>\n",
              "      <th>714061</th>\n",
              "      <td>38.0</td>\n",
              "      <td>62.84</td>\n",
              "    </tr>\n",
              "    <tr>\n",
              "      <th>152454</th>\n",
              "      <td>0.0</td>\n",
              "      <td>486.81</td>\n",
              "    </tr>\n",
              "  </tbody>\n",
              "</table>\n",
              "<p>442564 rows × 2 columns</p>\n",
              "</div>\n",
              "      <button class=\"colab-df-convert\" onclick=\"convertToInteractive('df-700849ba-1a91-402b-9ce2-d0c75df2d6b9')\"\n",
              "              title=\"Convert this dataframe to an interactive table.\"\n",
              "              style=\"display:none;\">\n",
              "        \n",
              "  <svg xmlns=\"http://www.w3.org/2000/svg\" height=\"24px\"viewBox=\"0 0 24 24\"\n",
              "       width=\"24px\">\n",
              "    <path d=\"M0 0h24v24H0V0z\" fill=\"none\"/>\n",
              "    <path d=\"M18.56 5.44l.94 2.06.94-2.06 2.06-.94-2.06-.94-.94-2.06-.94 2.06-2.06.94zm-11 1L8.5 8.5l.94-2.06 2.06-.94-2.06-.94L8.5 2.5l-.94 2.06-2.06.94zm10 10l.94 2.06.94-2.06 2.06-.94-2.06-.94-.94-2.06-.94 2.06-2.06.94z\"/><path d=\"M17.41 7.96l-1.37-1.37c-.4-.4-.92-.59-1.43-.59-.52 0-1.04.2-1.43.59L10.3 9.45l-7.72 7.72c-.78.78-.78 2.05 0 2.83L4 21.41c.39.39.9.59 1.41.59.51 0 1.02-.2 1.41-.59l7.78-7.78 2.81-2.81c.8-.78.8-2.07 0-2.86zM5.41 20L4 18.59l7.72-7.72 1.47 1.35L5.41 20z\"/>\n",
              "  </svg>\n",
              "      </button>\n",
              "      \n",
              "  <style>\n",
              "    .colab-df-container {\n",
              "      display:flex;\n",
              "      flex-wrap:wrap;\n",
              "      gap: 12px;\n",
              "    }\n",
              "\n",
              "    .colab-df-convert {\n",
              "      background-color: #E8F0FE;\n",
              "      border: none;\n",
              "      border-radius: 50%;\n",
              "      cursor: pointer;\n",
              "      display: none;\n",
              "      fill: #1967D2;\n",
              "      height: 32px;\n",
              "      padding: 0 0 0 0;\n",
              "      width: 32px;\n",
              "    }\n",
              "\n",
              "    .colab-df-convert:hover {\n",
              "      background-color: #E2EBFA;\n",
              "      box-shadow: 0px 1px 2px rgba(60, 64, 67, 0.3), 0px 1px 3px 1px rgba(60, 64, 67, 0.15);\n",
              "      fill: #174EA6;\n",
              "    }\n",
              "\n",
              "    [theme=dark] .colab-df-convert {\n",
              "      background-color: #3B4455;\n",
              "      fill: #D2E3FC;\n",
              "    }\n",
              "\n",
              "    [theme=dark] .colab-df-convert:hover {\n",
              "      background-color: #434B5C;\n",
              "      box-shadow: 0px 1px 3px 1px rgba(0, 0, 0, 0.15);\n",
              "      filter: drop-shadow(0px 1px 2px rgba(0, 0, 0, 0.3));\n",
              "      fill: #FFFFFF;\n",
              "    }\n",
              "  </style>\n",
              "\n",
              "      <script>\n",
              "        const buttonEl =\n",
              "          document.querySelector('#df-700849ba-1a91-402b-9ce2-d0c75df2d6b9 button.colab-df-convert');\n",
              "        buttonEl.style.display =\n",
              "          google.colab.kernel.accessAllowed ? 'block' : 'none';\n",
              "\n",
              "        async function convertToInteractive(key) {\n",
              "          const element = document.querySelector('#df-700849ba-1a91-402b-9ce2-d0c75df2d6b9');\n",
              "          const dataTable =\n",
              "            await google.colab.kernel.invokeFunction('convertToInteractive',\n",
              "                                                     [key], {});\n",
              "          if (!dataTable) return;\n",
              "\n",
              "          const docLinkHtml = 'Like what you see? Visit the ' +\n",
              "            '<a target=\"_blank\" href=https://colab.research.google.com/notebooks/data_table.ipynb>data table notebook</a>'\n",
              "            + ' to learn more about interactive tables.';\n",
              "          element.innerHTML = '';\n",
              "          dataTable['output_type'] = 'display_data';\n",
              "          await google.colab.output.renderOutput(dataTable, element);\n",
              "          const docLink = document.createElement('div');\n",
              "          docLink.innerHTML = docLinkHtml;\n",
              "          element.appendChild(docLink);\n",
              "        }\n",
              "      </script>\n",
              "    </div>\n",
              "  </div>\n",
              "  "
            ]
          },
          "metadata": {},
          "execution_count": 30
        }
      ]
    },
    {
      "cell_type": "code",
      "source": [
        "group1= dt_group1['price']\n",
        "group2= dt_group2['price']\n",
        "group3= dt_group3['price']"
      ],
      "metadata": {
        "id": "JvM2xwfJJWjK"
      },
      "execution_count": 32,
      "outputs": []
    },
    {
      "cell_type": "code",
      "source": [
        "F_statistic, pVal = stats.f_oneway(group1, group2, group3)\n",
        "print(F_statistic, pVal)"
      ],
      "metadata": {
        "id": "ofhSwRasKX8o",
        "outputId": "7306c399-867b-4363-f338-63e9b03dd314",
        "colab": {
          "base_uri": "https://localhost:8080/"
        }
      },
      "execution_count": 33,
      "outputs": [
        {
          "output_type": "stream",
          "name": "stdout",
          "text": [
            "1.0901346083984145 0.3361715406239764\n"
          ]
        }
      ]
    },
    {
      "cell_type": "markdown",
      "source": [
        "- 유의수준 이상이므로 귀무가설 기각실패\n",
        "- 유의미한 차이가 없다"
      ],
      "metadata": {
        "id": "V58gvLU9LDeV"
      }
    },
    {
      "cell_type": "code",
      "source": [
        "plot_sp= [group1,group2, group3]\n",
        "\n",
        "ax = plt.boxplot(plot_sp)\n",
        "plt.show()"
      ],
      "metadata": {
        "id": "YoJfTmDcJRin",
        "outputId": "5d7eaa15-90f8-4326-b019-09f70353dcef",
        "colab": {
          "base_uri": "https://localhost:8080/",
          "height": 371
        }
      },
      "execution_count": 34,
      "outputs": [
        {
          "output_type": "display_data",
          "data": {
            "text/plain": [
              "<Figure size 576x396 with 1 Axes>"
            ],
            "image/png": "[encoded data removed]"
          },
          "metadata": {}
        }
      ]
    },
    {
      "cell_type": "code",
      "source": [
        "# 정규성 가정되지 않을때  Kruskal-Waliis test\n",
        "stats.kruskal(group1,group2,group3)"
      ],
      "metadata": {
        "id": "k7IuUsW7LMVO",
        "outputId": "564f30c5-4f53-41ea-be50-342dda42d4e3",
        "colab": {
          "base_uri": "https://localhost:8080/"
        }
      },
      "execution_count": 36,
      "outputs": [
        {
          "output_type": "execute_result",
          "data": {
            "text/plain": [
              "KruskalResult(statistic=1.4604627607884382, pvalue=0.48179749869705635)"
            ]
          },
          "metadata": {},
          "execution_count": 36
        }
      ]
    },
    {
      "cell_type": "markdown",
      "source": [
        "- 정규성 가정되지 않을때 0.05 초과이므로 귀무가설 채택\n",
        "- 유의미한 차이가 없다."
      ],
      "metadata": {
        "id": "jTP97w-jLQla"
      }
    },
    {
      "cell_type": "code",
      "source": [
        "#등분산성 가정되지 않을때 Welch’s ANOVA\n",
        "import pingouin as pg\n",
        "\n",
        "#perform Welch's ANOVA\n",
        "pg.welch_anova(dv='price', between='coh', data=df)"
      ],
      "metadata": {
        "id": "AR3ow39iLMMp",
        "outputId": "1c503303-7d03-4470-a61c-37662c45d912",
        "colab": {
          "base_uri": "https://localhost:8080/",
          "height": 80
        }
      },
      "execution_count": 38,
      "outputs": [
        {
          "output_type": "execute_result",
          "data": {
            "text/plain": [
              "  Source  ddof1         ddof2    F  p-unc       np2\n",
              "0    coh   9729  19350.135095  0.0    1.0  0.008954"
            ],
            "text/html": [
              "\n",
              "  <div id=\"df-562f4194-71ee-420d-85e8-12f74755394a\">\n",
              "    <div class=\"colab-df-container\">\n",
              "      <div>\n",
              "<style scoped>\n",
              "    .dataframe tbody tr th:only-of-type {\n",
              "        vertical-align: middle;\n",
              "    }\n",
              "\n",
              "    .dataframe tbody tr th {\n",
              "        vertical-align: top;\n",
              "    }\n",
              "\n",
              "    .dataframe thead th {\n",
              "        text-align: right;\n",
              "    }\n",
              "</style>\n",
              "<table border=\"1\" class=\"dataframe\">\n",
              "  <thead>\n",
              "    <tr style=\"text-align: right;\">\n",
              "      <th></th>\n",
              "      <th>Source</th>\n",
              "      <th>ddof1</th>\n",
              "      <th>ddof2</th>\n",
              "      <th>F</th>\n",
              "      <th>p-unc</th>\n",
              "      <th>np2</th>\n",
              "    </tr>\n",
              "  </thead>\n",
              "  <tbody>\n",
              "    <tr>\n",
              "      <th>0</th>\n",
              "      <td>coh</td>\n",
              "      <td>9729</td>\n",
              "      <td>19350.135095</td>\n",
              "      <td>0.0</td>\n",
              "      <td>1.0</td>\n",
              "      <td>0.008954</td>\n",
              "    </tr>\n",
              "  </tbody>\n",
              "</table>\n",
              "</div>\n",
              "      <button class=\"colab-df-convert\" onclick=\"convertToInteractive('df-562f4194-71ee-420d-85e8-12f74755394a')\"\n",
              "              title=\"Convert this dataframe to an interactive table.\"\n",
              "              style=\"display:none;\">\n",
              "        \n",
              "  <svg xmlns=\"http://www.w3.org/2000/svg\" height=\"24px\"viewBox=\"0 0 24 24\"\n",
              "       width=\"24px\">\n",
              "    <path d=\"M0 0h24v24H0V0z\" fill=\"none\"/>\n",
              "    <path d=\"M18.56 5.44l.94 2.06.94-2.06 2.06-.94-2.06-.94-.94-2.06-.94 2.06-2.06.94zm-11 1L8.5 8.5l.94-2.06 2.06-.94-2.06-.94L8.5 2.5l-.94 2.06-2.06.94zm10 10l.94 2.06.94-2.06 2.06-.94-2.06-.94-.94-2.06-.94 2.06-2.06.94z\"/><path d=\"M17.41 7.96l-1.37-1.37c-.4-.4-.92-.59-1.43-.59-.52 0-1.04.2-1.43.59L10.3 9.45l-7.72 7.72c-.78.78-.78 2.05 0 2.83L4 21.41c.39.39.9.59 1.41.59.51 0 1.02-.2 1.41-.59l7.78-7.78 2.81-2.81c.8-.78.8-2.07 0-2.86zM5.41 20L4 18.59l7.72-7.72 1.47 1.35L5.41 20z\"/>\n",
              "  </svg>\n",
              "      </button>\n",
              "      \n",
              "  <style>\n",
              "    .colab-df-container {\n",
              "      display:flex;\n",
              "      flex-wrap:wrap;\n",
              "      gap: 12px;\n",
              "    }\n",
              "\n",
              "    .colab-df-convert {\n",
              "      background-color: #E8F0FE;\n",
              "      border: none;\n",
              "      border-radius: 50%;\n",
              "      cursor: pointer;\n",
              "      display: none;\n",
              "      fill: #1967D2;\n",
              "      height: 32px;\n",
              "      padding: 0 0 0 0;\n",
              "      width: 32px;\n",
              "    }\n",
              "\n",
              "    .colab-df-convert:hover {\n",
              "      background-color: #E2EBFA;\n",
              "      box-shadow: 0px 1px 2px rgba(60, 64, 67, 0.3), 0px 1px 3px 1px rgba(60, 64, 67, 0.15);\n",
              "      fill: #174EA6;\n",
              "    }\n",
              "\n",
              "    [theme=dark] .colab-df-convert {\n",
              "      background-color: #3B4455;\n",
              "      fill: #D2E3FC;\n",
              "    }\n",
              "\n",
              "    [theme=dark] .colab-df-convert:hover {\n",
              "      background-color: #434B5C;\n",
              "      box-shadow: 0px 1px 3px 1px rgba(0, 0, 0, 0.15);\n",
              "      filter: drop-shadow(0px 1px 2px rgba(0, 0, 0, 0.3));\n",
              "      fill: #FFFFFF;\n",
              "    }\n",
              "  </style>\n",
              "\n",
              "      <script>\n",
              "        const buttonEl =\n",
              "          document.querySelector('#df-562f4194-71ee-420d-85e8-12f74755394a button.colab-df-convert');\n",
              "        buttonEl.style.display =\n",
              "          google.colab.kernel.accessAllowed ? 'block' : 'none';\n",
              "\n",
              "        async function convertToInteractive(key) {\n",
              "          const element = document.querySelector('#df-562f4194-71ee-420d-85e8-12f74755394a');\n",
              "          const dataTable =\n",
              "            await google.colab.kernel.invokeFunction('convertToInteractive',\n",
              "                                                     [key], {});\n",
              "          if (!dataTable) return;\n",
              "\n",
              "          const docLinkHtml = 'Like what you see? Visit the ' +\n",
              "            '<a target=\"_blank\" href=https://colab.research.google.com/notebooks/data_table.ipynb>data table notebook</a>'\n",
              "            + ' to learn more about interactive tables.';\n",
              "          element.innerHTML = '';\n",
              "          dataTable['output_type'] = 'display_data';\n",
              "          await google.colab.output.renderOutput(dataTable, element);\n",
              "          const docLink = document.createElement('div');\n",
              "          docLink.innerHTML = docLinkHtml;\n",
              "          element.appendChild(docLink);\n",
              "        }\n",
              "      </script>\n",
              "    </div>\n",
              "  </div>\n",
              "  "
            ]
          },
          "metadata": {},
          "execution_count": 38
        }
      ]
    },
    {
      "cell_type": "markdown",
      "source": [
        "사후분석을 진행하여 그룹간 평균의 차이를 더욱 자세히 살펴봅니다. "
      ],
      "metadata": {
        "id": "rP7QyWS-QeQ3"
      }
    },
    {
      "cell_type": "markdown",
      "source": [
        "사후분석(post hoc)\n",
        "\n",
        "*   ANOVA 검증 결과 유의미하다는 결론을 얻었을 때, 구체적으로 어떤 수준(들)에서 평균 차이가 나는지를 검증하는 방법\n",
        "*   연구자의 사전 가설(아이디어)없이 ANOVA를 시행한 경우, 탐색적으로 평균 차이가 나는 수준(집단)을 살펴보기 위해 시행하는 방법\n",
        "- 조합 가능한 모든 쌍에 대해 비교를 하므로 과잉검증으로 인한 FWER 증가\n",
        "\n",
        "\n",
        "\n",
        "\n"
      ],
      "metadata": {
        "id": "mwI2KgHhIMh-"
      }
    },
    {
      "cell_type": "markdown",
      "source": [
        "- 유의수준을 보정하여 FWER을 0.05로 고정시킴\n",
        "\n",
        "피셔의 LSD\n",
        "\n",
        "봉페로니 교정\n",
        "\n",
        "투키의 HSD\n",
        "  - Tuckey's Honestly Significant Difference = \"진정으로 유의미한 차이\"\n",
        "  - FWER이 중간 정도\n",
        "\n",
        "셰페의 방법"
      ],
      "metadata": {
        "id": "-trlEDKgI1uk"
      }
    },
    {
      "cell_type": "code",
      "source": [
        "from statsmodels.stats.multicomp import pairwise_tukeyhsd\n",
        "\n",
        "posthoc = pairwise_tukeyhsd(dt['price'], dt['coh'], alpha=0.05)\n",
        "print(posthoc)"
      ],
      "metadata": {
        "id": "dOngFL30E0le"
      },
      "execution_count": null,
      "outputs": []
    },
    {
      "cell_type": "markdown",
      "source": [
        "레퍼런스 https://mindscale.kr/course/basic-stat-python/22/"
      ],
      "metadata": {
        "id": "aEJoFEHwJGpe"
      }
    },
    {
      "cell_type": "code",
      "source": [
        ""
      ],
      "metadata": {
        "id": "YCVb1vKUJHii"
      },
      "execution_count": null,
      "outputs": []
    }
  ]
}
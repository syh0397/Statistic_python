{
 "cells": [
  {
   "cell_type": "markdown",
   "metadata": {},
   "source": [
    "# 정규분포\n",
    "\n",
    "- 정규 분포는 평균Mean과 분산Variance이라는 두 개의 모수를 갖습니다. \n",
    "- 위 코드의 mu는 그리스 문자 μ를 가리키며 평균의 모수입니다. \n",
    "- sigma는 그리스 문자 σ를 가리키며 표준 편차Standard deviation의 모수입니다.\n",
    "- 대칭symmetric이며 종 모양의 형태(bell shape)를 가집니다\n",
    "\n",
    "## 분산은 표준편차의 제곱근으로, 둘 다 데이터가 얼마나 퍼져있는지를 가리켜 혼용되므로 정확한 수식에 유의하셔야 합니다. \n",
    "- 둘 중 일반적으로 더 많이 쓰이는 것은 표준편차로, 단위unit가 평균과 같기 때문입니다.\n",
    "  \n",
    "\n",
    "## 정규분포의 확률 밀도 함수를 구하는 식은 복잡합니다.\n",
    "- 평균이 0이고 표준 편차가 1인 정규분포를 특별히 표준 정규 분포Standard normal distribution라고 합니다. \n",
    "- 표준 정규 분포를 z분포라고도 합니다. \n",
    "- 이 세상 모든 정규 분포는 표준 정규 분포로 변환Transformation될 수 있으므로, 우리는 다양한 정규 분포를 공부하는 대신 하나의 표준 정규 분포를 공부하고 써먹습니다\n",
    "- 평균을 빼고 표준편차로 나눠준 값을 Z-score라고도 합니다. -> 정규화 \n"
   ]
  },
  {
   "cell_type": "markdown",
   "metadata": {},
   "source": []
  }
 ],
 "metadata": {
  "kernelspec": {
   "display_name": "Python 3.9.13 ('pythonProject')",
   "language": "python",
   "name": "python3"
  },
  "language_info": {
   "name": "python",
   "version": "3.9.13"
  },
  "orig_nbformat": 4,
  "vscode": {
   "interpreter": {
    "hash": "5a7d7489a48e8e3d9a02dbc0b5bf25208b43f306eabc0c69e8546a54d99577b2"
   }
  }
 },
 "nbformat": 4,
 "nbformat_minor": 2
}

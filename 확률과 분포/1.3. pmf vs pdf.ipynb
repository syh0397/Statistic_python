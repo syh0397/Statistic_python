{
 "cells": [
  {
   "cell_type": "markdown",
   "metadata": {},
   "source": [
    "# 확률 질량 함수 Probability mass function (PMF)\n",
    "\n",
    "- 0이나 1, 2와 같이 단절된 값을 가질 수 있는 확률 분포 = 이산형 확률 분포 Discrete probability distribution\n",
    "- 이산형 확률분포에 대한 확률 함수를 -> 확률 질량 함수(pmf)라고 한다.\n",
    "- 성별, 학년, 인원수 등\n",
    "\n",
    "# 확률 밀도 함수 Probability density function (PDF)\n",
    "\n",
    "-  X의 값이 연속적일 때, 그 분포를 연속형 확률 분포Continuous probability distribution라 하고, \n",
    "-  이에 대한 확률 함수를 확률 밀도 함수(pdf)라 합니다.\n",
    "-  키, 음악이나 동영상 재생시간, 강우량\n",
    "-  연속형 확률 변수의 확률 값을 구할 때는 면적을 구하기 위해 적분을 이용 -> 넓이만 의미가 있으므로\n",
    "\n",
    "\n"
   ]
  }
 ],
 "metadata": {
  "kernelspec": {
   "display_name": "Python 3.9.13 ('pythonProject')",
   "language": "python",
   "name": "python3"
  },
  "language_info": {
   "name": "python",
   "version": "3.9.13"
  },
  "orig_nbformat": 4,
  "vscode": {
   "interpreter": {
    "hash": "5a7d7489a48e8e3d9a02dbc0b5bf25208b43f306eabc0c69e8546a54d99577b2"
   }
  }
 },
 "nbformat": 4,
 "nbformat_minor": 2
}

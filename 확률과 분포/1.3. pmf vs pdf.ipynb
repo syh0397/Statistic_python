{
 "cells": [
  {
   "cell_type": "markdown",
   "metadata": {},
   "source": [
    "# 확률 질량 함수 Probability mass function\n",
    "\n",
    "- 0이나 1, 2와 같이 단절된 값을 가질 수 있는 확률 분포 = 이산형 확률 분포 Discrete probability distribution\n",
    "- 이산형 확률분포에 대한 확률 함수를 -> 확률 질량 함수(pmf)라고 한다.\n",
    "\n",
    "# 확률 밀도 함수 Probability density function\n",
    "\n"
   ]
  }
 ],
 "metadata": {
  "kernelspec": {
   "display_name": "Python 3.9.13 ('pythonProject')",
   "language": "python",
   "name": "python3"
  },
  "language_info": {
   "name": "python",
   "version": "3.9.13"
  },
  "orig_nbformat": 4,
  "vscode": {
   "interpreter": {
    "hash": "5a7d7489a48e8e3d9a02dbc0b5bf25208b43f306eabc0c69e8546a54d99577b2"
   }
  }
 },
 "nbformat": 4,
 "nbformat_minor": 2
}

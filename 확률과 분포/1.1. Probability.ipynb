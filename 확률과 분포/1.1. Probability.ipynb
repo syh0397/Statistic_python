{
 "cells": [
  {
   "cell_type": "markdown",
   "metadata": {},
   "source": [
    "## 문제\n",
    "- 공정한 동전을 던졌을 때, 앞(Head) 또는 뒤(Tail)가 나올 확률을 구하는 함수를 작성해보세요.\n",
    "\n",
    "- 베이스라인의 code here 을 채우세요.\n",
    "  \n"
   ]
  },
  {
   "cell_type": "markdown",
   "metadata": {},
   "source": [
    "## 베이스라인\n"
   ]
  },
  {
   "cell_type": "code",
   "execution_count": null,
   "metadata": {},
   "outputs": [],
   "source": [
    "def pmf_coin(outcome):\n",
    "    '''\n",
    "    본 함수는 동전을 던졌을 때 나오는 결과(Head 혹은 Tail)를 입력값으로 받는다.\n",
    "    입력값 outcome이 Head와 Tail 둘 중 하나일 때는 0.5, 그 외에는 0이 확률이 된다.\n",
    "    확률 변수의 형식으로, 주어진 outcome에 대한 확률을 출력한다.\n",
    "    '''\n",
    "    if outcome in # code here\n",
    "        '''\n",
    "        code here\n",
    "        '''\n",
    "        \n",
    "    else:\n",
    "        '''\n",
    "        code here\n",
    "        '''\n",
    "\n",
    "    print(f\"P(X = x) = {p:.2f}\")"
   ]
  },
  {
   "cell_type": "markdown",
   "metadata": {},
   "source": [
    "- 왜 우리는 확률 분포Probability distribution를 알아야 할까요? \n",
    "  - 우리가 나중에 실제로 쓸 통계나 머신러닝 모델은 대부분 확률 분포에 의존 \n",
    "  - 확률분포를 이해해야 모델의 유용성과 한계를 알고 적절한 상황에 적절한 모델을, 적절한 방법으로 사용할 수 있습니다."
   ]
  },
  {
   "cell_type": "markdown",
   "metadata": {},
   "source": [
    "#### 확률 분포probability distribution\n",
    "\n",
    "- 확률 분포는 확률 변수가 어떤 값일 확률\n",
    "- 윗면이 앞면(뒷면)일 때 확률이 얼마인지 알려주는 전환기(함수)가 확률 분포\n",
    "\n",
    "#### 확률 변수random variable\n",
    "\n",
    "- 확률변수는 확률적으로 값이 결정되는 변수\n",
    "- 동전을 던졌을 때 윗면이 무엇으로 나오는지 = 가 확률 변수입니다. \n",
    "- 윗면은 앞면 이거나 뒷면일 겁니다.\n",
    "\n",
    "\n",
    "#### 그리고 확률probability\n",
    "\n",
    "- 확률은 어떤 사건이 일어났을 지에 대한 가능성을 0~1 사이의 숫자로 표현한 값\n",
    "- 이 확률 변수가 앞면(뒷면)일 가능성의 값을 확률이라고 합니다.\n",
    "\n",
    "\n",
    "#### 확률변수에서 관측될 수 있는 결과의 집합을 사건(사상)event이라고 하며, 가능한 모든 사건의 집합을 표본 공간sample space라고 합니다.\n",
    "\n",
    "- 동전 던지기에는 앞면과 뒷면이라는 두 개의 사건이 표본 공간을 구성하고 있습니다.\n",
    "- 동전던지기에서 관측될수있는 결과의 집합 , 즉 사건은 앞면 두번, 뒷면 두번 등의 결과가 나오는 예시가 있습니다. \n",
    "-  표본 공간 외의 표본이 나올 확률은 항상 0입니다.\n",
    "\n",
    "#### 이를 수식으로 보면 다음과 같습니다.\n",
    "\n",
    "𝑃(𝑋=ℎ𝑒𝑎𝑑)=p\n",
    "\n",
    "- 위 수식에서 P는 확률분포이고 X는 확률변수, head는 사건, p는 동전의 앞면이 나올 확률을 의미합니다."
   ]
  }
 ],
 "metadata": {
  "language_info": {
   "name": "python"
  },
  "orig_nbformat": 4
 },
 "nbformat": 4,
 "nbformat_minor": 2
}

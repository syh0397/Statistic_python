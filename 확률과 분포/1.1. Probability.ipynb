{
 "cells": [
  {
   "cell_type": "markdown",
   "metadata": {},
   "source": [
    "## 베이스라인\n"
   ]
  },
  {
   "cell_type": "markdown",
   "metadata": {},
   "source": [
    "##  확률 분포Probability distribution를 알아야 할까\n",
    "\n",
    "  - 우리가 나중에 실제로 쓸 통계나 머신러닝 모델은 대부분 확률 분포에 의존함 \n",
    "  - 확률분포를 이해해야 모델의 유용성과 한계를 알수있음\n",
    "\n",
    "\n",
    "\n",
    "## 확률 변수 Random variable\n",
    "\n",
    "- 확률변수는 확률적으로 값이 결정되는 변수\n",
    "- 동전을 던졌을 때 윗면이 무엇으로 나오는지 = 가 확률 변수입니다. \n",
    "- 앞면 아니면 뒷면일 것 \n",
    "\n",
    "\n",
    "## 확률 분포 Probability distribution\n",
    "\n",
    "- 확률 분포는 확률 변수(동전의 앞,뒷면)가 어떤 값일 확률\n",
    "- 윗면이 앞면(뒷면)일 때 확률이 얼마인지 알려주는 전환기(함수)가 확률 분포\n",
    "\n",
    "\n",
    "\n",
    "\n",
    "## 확률 probability\n",
    "\n",
    "- 확률은 어떤 사건이 일어났을 지에 대한 가능성을 0~1 사이의 숫자로 표현한 값\n",
    "- 이 확률 변수가 앞면(뒷면)일 가능성의 값을 확률이라고 합니다.\n",
    "\n",
    "\n",
    "## 사건(사상)event\n",
    "- 확률변수에서 관측될 수 있는 결과의 집합 \n",
    "- 동전던지기에서 관측될 수 있는 결과의 집합\n",
    "- 즉 사건은 앞면 두번, 뒷면 두번 등의 결과가 나오는 예시가 있습니다. \n",
    "\n",
    "## 가능한 모든 사건의 집합을 표본 공간sample space라고 합니다.\n",
    "\n",
    "- 동전 던지기에는 앞면과 뒷면이라는 두 개의 사건이 표본 공간을 구성.\n",
    "- 표본 공간 외의 표본이 나올 확률은 항상 0입니다.\n",
    "\n",
    "#### 이를 수식으로 보면 다음과 같습니다.\n",
    "\n",
    "𝑃(𝑋=ℎ𝑒𝑎𝑑)=p\n",
    "\n",
    "- 위 수식에서 P는 확률분포이고 X는 확률변수, head는 사건, p는 동전의 앞면이 나올 확률을 의미합니다."
   ]
  },
  {
   "cell_type": "markdown",
   "metadata": {},
   "source": []
  },
  {
   "cell_type": "code",
   "execution_count": 3,
   "metadata": {},
   "outputs": [
    {
     "ename": "SyntaxError",
     "evalue": "invalid syntax (984995857.py, line 7)",
     "output_type": "error",
     "traceback": [
      "\u001b[0;36m  Input \u001b[0;32mIn [3]\u001b[0;36m\u001b[0m\n\u001b[0;31m    if outcome in # code here\u001b[0m\n\u001b[0m                  ^\u001b[0m\n\u001b[0;31mSyntaxError\u001b[0m\u001b[0;31m:\u001b[0m invalid syntax\n"
     ]
    }
   ],
   "source": [
    "def pmf_coin(outcome):\n",
    "    '''\n",
    "    본 함수는 동전을 던졌을 때 나오는 결과(Head 혹은 Tail)를 입력값으로 받는다.\n",
    "    입력값 outcome이 Head와 Tail 둘 중 하나일 때는 0.5, 그 외에는 0이 확률이 된다.\n",
    "    확률 변수의 형식으로, 주어진 outcome에 대한 확률을 출력한다.\n",
    "    '''\n",
    "    if outcome in # code here\n",
    "        '''\n",
    "        code here\n",
    "        '''\n",
    "        \n",
    "    else:\n",
    "        '''\n",
    "        code here\n",
    "        '''\n",
    "\n",
    "    print(f\"P(X = x) = {p:.2f}\")"
   ]
  },
  {
   "cell_type": "code",
   "execution_count": null,
   "metadata": {},
   "outputs": [],
   "source": []
  }
 ],
 "metadata": {
  "kernelspec": {
   "display_name": "Python 3.9.13 ('pythonProject')",
   "language": "python",
   "name": "python3"
  },
  "language_info": {
   "codemirror_mode": {
    "name": "ipython",
    "version": 3
   },
   "file_extension": ".py",
   "mimetype": "text/x-python",
   "name": "python",
   "nbconvert_exporter": "python",
   "pygments_lexer": "ipython3",
   "version": "3.9.13"
  },
  "orig_nbformat": 4,
  "vscode": {
   "interpreter": {
    "hash": "5a7d7489a48e8e3d9a02dbc0b5bf25208b43f306eabc0c69e8546a54d99577b2"
   }
  }
 },
 "nbformat": 4,
 "nbformat_minor": 2
}

{
 "cells": [
  {
   "cell_type": "markdown",
   "metadata": {},
   "source": [
    "## 문제\n",
    "- 공정한 동전을 던졌을 때, 앞(Head) 또는 뒤(Tail)가 나올 확률을 구하는 함수를 작성해보세요.\n",
    "\n",
    "- 베이스라인의 code here 을 채우세요.\n",
    "  \n"
   ]
  },
  {
   "cell_type": "markdown",
   "metadata": {},
   "source": [
    "## 베이스라인\n"
   ]
  },
  {
   "cell_type": "code",
   "execution_count": null,
   "metadata": {},
   "outputs": [],
   "source": [
    "def pmf_coin(outcome):\n",
    "    '''\n",
    "    본 함수는 동전을 던졌을 때 나오는 결과(Head 혹은 Tail)를 입력값으로 받는다.\n",
    "    입력값 outcome이 Head와 Tail 둘 중 하나일 때는 0.5, 그 외에는 0이 확률이 된다.\n",
    "    확률 변수의 형식으로, 주어진 outcome에 대한 확률을 출력한다.\n",
    "    '''\n",
    "    if outcome in # code here\n",
    "        '''\n",
    "        code here\n",
    "        '''\n",
    "        \n",
    "    else:\n",
    "        '''\n",
    "        code here\n",
    "        '''\n",
    "\n",
    "    print(f\"P(X = x) = {p:.2f}\")"
   ]
  },
  {
   "cell_type": "markdown",
   "metadata": {},
   "source": [
    "- 왜 우리는 확률 분포Probability distribution를 알아야 할까요? \n",
    "  - 우리가 나중에 실제로 쓸 통계나 머신러닝 모델은 대부분 확률 분포에 의존 \n",
    "  - 확률분포를 이해해야 모델의 유용성과 한계를 알고 적절한 상황에 적절한 모델을, 적절한 방법으로 사용할 수 있습니다."
   ]
  },
  {
   "cell_type": "markdown",
   "metadata": {},
   "source": [
    "#### 확률 분포probability distribution\n",
    "\n",
    "- 확률 분포는 확률 변수가 어떤 값일 확률\n",
    "\n",
    "#### 확률 변수random variable\n",
    "\n",
    "- 확률변수는 확률적으로 값이 결정되는 변수\n",
    "- 동전을 던졌을 때 윗면이 무엇인지가 확률 변수입니다. 윗면은 앞면 이거나 뒷면일 겁니다.\n",
    ".\n",
    "\n",
    "#### 그리고 확률probability\n",
    "\n",
    "- 확률은 어떤 사건이 일어났을 지에 대한 가능성을 0~1 사이의 숫자로 표현한 값"
   ]
  }
 ],
 "metadata": {
  "language_info": {
   "name": "python"
  },
  "orig_nbformat": 4
 },
 "nbformat": 4,
 "nbformat_minor": 2
}

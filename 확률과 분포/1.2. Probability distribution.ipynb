{
 "cells": [
  {
   "cell_type": "markdown",
   "metadata": {},
   "source": [
    "## 일반적으로 확률 분포(Probability distribution)의 값은 사건 event과 모수 parameter에 따라 달라지며, 그 사이의 관계를 수식을 통해 정의할 수 있습니다\n",
    "  "
   ]
  },
  {
   "cell_type": "markdown",
   "metadata": {},
   "source": [
    "## 베르누이 분포\n",
    "\n",
    " - 결과 값이 둘 중 하나만 가능한 분포로서 수식은 다음과 같습니다.\n",
    " - 동전 뒤집기는 앞 뒤 두가지중 하나만 가능 \n",
    "\n",
    "## 베르누이 시행\n",
    "  - 결과가 두 가지 중 하나로만 나오는 실험이나 시행을 베르누이 시행(Bernoulli trial)이라고 한다. \n",
    "  - 예를 들어 동전을 한 번 던져 앞면(H:Head)이 나오거나 뒷면(T:Tail)이 나오게 하는 것도 베르누이 시행이다.\n",
    "  - 베르누이 시행의 결과를 실수 0 또는 1로 바꾼 것을 **베르누이 확률변수(Bernoulli random variable)**라고 한다. \n",
    "  - 베르누이 확률변수는 두 값 중 하나만 가질 수 있으므로 이산확률변수(discrete random variable)다.\n",
    "  - 베르누이 확률변수의 표본값은 보통 정수 1과 0으로 표현하지만 때로는 정수 1과 -1로 표현하는 경우도 있다.\n",
    " \n",
    " \n",
    "## 베르누이분포는 1이 나올 확률을 의미하는 𝜇라는 **모수(parameter)**를 가진다. 변수와 모수는 세미콜론(;, semicolon)기호로 분리했다. 0이 나올 확률은 1−𝜇이다.\n",
    "\n",
    "![Imgur](https://i.imgur.com/Ku0D1yU.png)\n",
    "\n",
    "\n",
    "####  형식은 다음과 같습니다. P(Random variable;parameter)\n",
    "####  P(X=x). 확률 변수 X가 값 x(예를 들어, 1)를 가질 때의 확률이라는 뜻입니다. \n",
    "  - 확률 변수 X를 확률 분포인 P에 넣어준 것입니다. \n",
    "  - 대문자는 확률 변수이고, 소문자는 나중에 주어질, 아직 정해지지 않은 값으로 구분해서 사용됩니다. \n",
    "  - X에 대한 분포라는 뜻으로 하나에 첨자를 붙여 PX(X=x;p)나, 짧게 줄여 PX(x;p)로 쓰기도 합니다.\n",
    "#### ; 뒤의 p. 는 p가 모수parameter로 주어진다는 의미입니다. \n",
    "  - 확률 분포에서 모수란 그 확률 분포의 특성을 나타내는 수입니다. \n",
    "  - 베르누이 분포에서 동전에서 앞면이 나올 확률이 모수가 되고, 정규 분포에서는 평균과 분산이 모수가 됩니다. \n",
    "  - 통계학에서 모수는 항상 그리스 문자로 표기합니다.\n",
    "  \n",
    "#### {. x의 여러 가지 케이스들을 나눠서 보는 것입니다. \n",
    "  - 동전 던지기의 경우 x가 표본 공간에 속하는 0이나 1인 케이스에 대해 이어지는 수식을 통해 확률값이 계산되고, 그 외의 경우에는 0이 됩니다. \n",
    "  - 하나의 확률 분포에서도 x의 범위에 따라 다른 수식이 사용될 수 있습니다. \n",
    "  - 혼합 분포Mixture distribution가 대표적인 경우입니다.\n",
    "  - 결과가 두 가지(이진Binary)인 상황은 일반적으로 베르누이로 다룰 수 있기 때문에 무척 흔하게 쓰이며, \n",
    "#### 시그모이드 함수Sigmoid function 또한 베르누이 분포로부터 유도될 수 있습니다. \n",
    "  - 즉 머신러닝에서 분류 문제와도 연관이 깊습니다.\n",
    "\n",
    "\n",
    "---\n",
    "\n",
    "\n",
    "#### 실제 값을 수식에 대입해봅시다. \n",
    "  - 만일 x=1이라면 P(X=1;p)=p가 되고, x=0이라면 P(X=0)=(1−p)가 됩니다. \n",
    "  - 성공할 확률은 p이고, 실패할 확률은 1−p라고 해석할 수 있겠습니다. 그 외의 값에 대한 확률 값은 모두 0입니다.\n",
    "---"
   ]
  },
  {
   "cell_type": "markdown",
   "metadata": {},
   "source": [
    "# 베르누이분포의 활용\n",
    "\n",
    "- 베르누이분포는 이항분포에서 n=1인 특이한 케이스\n",
    "- \n",
    "####  베르누이분포는 다음과 같은 경우에 사용된다.\n",
    "\n",
    "- 분류예측 문제의 출력 데이터가 두 값으로 구분되는 카테고리값인 경우에 분류 결과 즉, 두 값 중 어느 값이 가능성이 높은지를 표현하는 데 사용된다(베이지안 관점).\n",
    "\n",
    "- 입력 데이터가 0 또는 1 혹은 참 또는 거짓, 두 개의 값으로 구분되는 카테고리값인 경우, 두 종류의 값이 나타나는 비율을 표현하는 데 사용된다(빈도주의적 관점).\n",
    "\n",
    "---\n",
    "\n",
    "\n",
    "# Ex. 프로농구에서 어떤 농구선수의 3점슛 성공률이 35%라고 가정하자. 이때 이 선수가 5번을 던질 때 3점슛이 3번 성공할 확률을 계산하고, 기댓값과 분산을 구하라.\n",
    "출처: https://datalabbit.tistory.com/43 [간토끼 DataMining Lab:티스토리]\n",
    "\n",
    "![Imgur](https://i.imgur.com/o6GNIYc.png)\n"
   ]
  },
  {
   "cell_type": "markdown",
   "metadata": {},
   "source": [
    "- 지지역의 의미는 확률 분포에서 확률 값이 0이 아닌 확률 변수 x의 집합입니다. \n",
    "- 즉, 발생 가능한 사건(예: head, tail)은 지지역으로 바뀔 수 있으며, 발생 불가능한 사건(예: 동전을 던졌는데 head도 tail도 아닌 동전이 세워진다던지)은 불가능한 사건이니까 확률이 0이며, 따라서 지지역으로 바뀔 수 없습니다.\n",
    "- 이렇게 숫자로 추상화를 함으로써 베르누이 분포는 동전 던지기 뿐 아니라 결과가 두 가지인 시도, 예컨대 생존/사망이나 정품/불량 등의 수많은 문제를 다룰 수 있습니다. "
   ]
  },
  {
   "cell_type": "code",
   "execution_count": null,
   "metadata": {},
   "outputs": [],
   "source": [
    "def pdf_unif(x, a=0, b=1):\n",
    "    '''\n",
    "    주어진 a, b, x에 관한 균등 분포의 확률 값을 출력한다.\n",
    "    '''\n",
    "    if # code here\n",
    "        prob = # code here\n",
    "    else:\n",
    "        prob = # code here\n",
    "    print(\"P(X=%s; a=%s, b=%s) = %.2f\"%(x, a, b, prob))"
   ]
  },
  {
   "cell_type": "code",
   "execution_count": null,
   "metadata": {},
   "outputs": [],
   "source": [
    "# Input\n",
    "pdf_unif(x=0.5)\n",
    "\n",
    "pdf_unif(x=0, a=-1, b=2)\n",
    "\n",
    "pdf_unif(x=2.5, a=0, b=3.5)\n",
    "# Output\n",
    "P(X=0.5; a=0, b=1) = 0.50\n",
    "\n",
    "P(X=0; a=-1, b=2) = 0.33\n",
    "\n",
    "P(X=2.5; a=0, b=3.5) = 0.71"
   ]
  },
  {
   "cell_type": "code",
   "execution_count": null,
   "metadata": {},
   "outputs": [],
   "source": []
  }
 ],
 "metadata": {
  "kernelspec": {
   "display_name": "Python 3.9.13 ('pythonProject')",
   "language": "python",
   "name": "python3"
  },
  "language_info": {
   "codemirror_mode": {
    "name": "ipython",
    "version": 3
   },
   "file_extension": ".py",
   "mimetype": "text/x-python",
   "name": "python",
   "nbconvert_exporter": "python",
   "pygments_lexer": "ipython3",
   "version": "3.9.13"
  },
  "orig_nbformat": 4,
  "vscode": {
   "interpreter": {
    "hash": "5a7d7489a48e8e3d9a02dbc0b5bf25208b43f306eabc0c69e8546a54d99577b2"
   }
  }
 },
 "nbformat": 4,
 "nbformat_minor": 2
}

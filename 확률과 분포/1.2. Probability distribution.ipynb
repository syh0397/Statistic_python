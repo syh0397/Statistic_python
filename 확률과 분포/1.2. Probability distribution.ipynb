{
 "cells": [
  {
   "cell_type": "markdown",
   "metadata": {},
   "source": [
    "- 일반적으로 확률 분포 Probability distribution의 값은 사건 event과 모수 parameter에 따라 달라지며, 그 사이의 관계를 수식을 통해 정의할 수 있습니다\n",
    "- "
   ]
  }
 ],
 "metadata": {
  "kernelspec": {
   "display_name": "Python 3.9.13 ('pythonProject')",
   "language": "python",
   "name": "python3"
  },
  "language_info": {
   "name": "python",
   "version": "3.9.13"
  },
  "orig_nbformat": 4,
  "vscode": {
   "interpreter": {
    "hash": "5a7d7489a48e8e3d9a02dbc0b5bf25208b43f306eabc0c69e8546a54d99577b2"
   }
  }
 },
 "nbformat": 4,
 "nbformat_minor": 2
}

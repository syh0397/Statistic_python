{
  "nbformat": 4,
  "nbformat_minor": 0,
  "metadata": {
    "colab": {
      "name": "10_단순회귀분석(Simple Regression Analysis).ipynb",
      "provenance": [],
      "collapsed_sections": [],
      "authorship_tag": "ABX9TyPyXgLyZ9fsE+4cC+0AckT4",
      "include_colab_link": true
    },
    "kernelspec": {
      "name": "python3",
      "display_name": "Python 3"
    },
    "language_info": {
      "name": "python"
    }
  },
  "cells": [
    {
      "cell_type": "markdown",
      "metadata": {
        "id": "view-in-github",
        "colab_type": "text"
      },
      "source": [
        "<a href=\"https://colab.research.google.com/github/syh0397/Statistics_python/blob/main/10_%EB%8B%A8%EC%88%9C%ED%9A%8C%EA%B7%80%EB%B6%84%EC%84%9D(Simple_Regression_Analysis).ipynb\" target=\"_parent\"><img src=\"https://colab.research.google.com/assets/colab-badge.svg\" alt=\"Open In Colab\"/></a>"
      ]
    },
    {
      "cell_type": "code",
      "execution_count": null,
      "metadata": {
        "id": "GtrT0ODnK0d6"
      },
      "outputs": [],
      "source": [
        "!pip install pingouin\n",
        "!pip install --upgrade pingouin\n",
        "!pip install scikit_posthocs"
      ]
    },
    {
      "cell_type": "code",
      "source": [
        "pip install statsmodels"
      ],
      "metadata": {
        "id": "6CBnI1_RN0Vk"
      },
      "execution_count": null,
      "outputs": []
    },
    {
      "cell_type": "code",
      "source": [
        "from google.colab import drive\n",
        "drive.mount('/content/drive')"
      ],
      "metadata": {
        "colab": {
          "base_uri": "https://localhost:8080/"
        },
        "id": "yNj_vfLRLB_C",
        "outputId": "4bb89c3f-f573-43d3-bab9-39c015f84e8f"
      },
      "execution_count": 3,
      "outputs": [
        {
          "output_type": "stream",
          "name": "stdout",
          "text": [
            "Mounted at /content/drive\n"
          ]
        }
      ]
    },
    {
      "cell_type": "code",
      "source": [
        "import pandas as pd \n",
        "import numpy as np \n",
        "\n",
        "import os\n",
        "import sys\n",
        "import warnings\n",
        "warnings.filterwarnings('ignore')\n",
        "\n",
        "import sklearn \n",
        "import missingno as msno\n",
        "import matplotlib.pyplot as plt\n",
        "%matplotlib inline\n",
        "import seaborn as sns\n",
        "plt.style.use('seaborn')\n",
        "sns.set(font_scale=2.5)\n",
        "\n",
        "import scipy \n",
        "from scipy import  stats\n",
        "import statsmodels.api as sm\n",
        "import pylab as py\n",
        "\n",
        "\n",
        "import pingouin as pg\n",
        "import scikit_posthocs\n",
        "\n",
        "pd.options.display.float_format = '{:.3f}'.format"
      ],
      "metadata": {
        "id": "6S2FIX3sLDUJ"
      },
      "execution_count": 4,
      "outputs": []
    },
    {
      "cell_type": "markdown",
      "source": [
        "## 단순회귀분석 \n",
        "(단순회기분석은 청량리 위에 있음)"
      ],
      "metadata": {
        "id": "7-iC08t-LdNP"
      }
    },
    {
      "cell_type": "markdown",
      "source": [
        "- 단순 회귀 분석은 독립변수x 가 하나인 경우에 사용된다 \n",
        "- 독립 종속 모두 연속형 변수여야 한다. \n",
        "- 독립변수 x가 종속변수 y에 미치는 영향 (인과)에 대해서 추정할때 쓰인다. "
      ],
      "metadata": {
        "id": "0jEmdl_eLk1y"
      }
    },
    {
      "cell_type": "code",
      "source": [
        "hos = sns.load_dataset('tips')\n",
        "hos"
      ],
      "metadata": {
        "colab": {
          "base_uri": "https://localhost:8080/",
          "height": 423
        },
        "id": "kxfCErdPMbBO",
        "outputId": "faf11c9f-1408-49df-83b0-c1634555957e"
      },
      "execution_count": 5,
      "outputs": [
        {
          "output_type": "execute_result",
          "data": {
            "text/plain": [
              "     total_bill   tip     sex smoker   day    time  size\n",
              "0        16.990 1.010  Female     No   Sun  Dinner     2\n",
              "1        10.340 1.660    Male     No   Sun  Dinner     3\n",
              "2        21.010 3.500    Male     No   Sun  Dinner     3\n",
              "3        23.680 3.310    Male     No   Sun  Dinner     2\n",
              "4        24.590 3.610  Female     No   Sun  Dinner     4\n",
              "..          ...   ...     ...    ...   ...     ...   ...\n",
              "239      29.030 5.920    Male     No   Sat  Dinner     3\n",
              "240      27.180 2.000  Female    Yes   Sat  Dinner     2\n",
              "241      22.670 2.000    Male    Yes   Sat  Dinner     2\n",
              "242      17.820 1.750    Male     No   Sat  Dinner     2\n",
              "243      18.780 3.000  Female     No  Thur  Dinner     2\n",
              "\n",
              "[244 rows x 7 columns]"
            ],
            "text/html": [
              "\n",
              "  <div id=\"df-e0cedb4e-cc85-4016-b2d1-bbd8b507933f\">\n",
              "    <div class=\"colab-df-container\">\n",
              "      <div>\n",
              "<style scoped>\n",
              "    .dataframe tbody tr th:only-of-type {\n",
              "        vertical-align: middle;\n",
              "    }\n",
              "\n",
              "    .dataframe tbody tr th {\n",
              "        vertical-align: top;\n",
              "    }\n",
              "\n",
              "    .dataframe thead th {\n",
              "        text-align: right;\n",
              "    }\n",
              "</style>\n",
              "<table border=\"1\" class=\"dataframe\">\n",
              "  <thead>\n",
              "    <tr style=\"text-align: right;\">\n",
              "      <th></th>\n",
              "      <th>total_bill</th>\n",
              "      <th>tip</th>\n",
              "      <th>sex</th>\n",
              "      <th>smoker</th>\n",
              "      <th>day</th>\n",
              "      <th>time</th>\n",
              "      <th>size</th>\n",
              "    </tr>\n",
              "  </thead>\n",
              "  <tbody>\n",
              "    <tr>\n",
              "      <th>0</th>\n",
              "      <td>16.990</td>\n",
              "      <td>1.010</td>\n",
              "      <td>Female</td>\n",
              "      <td>No</td>\n",
              "      <td>Sun</td>\n",
              "      <td>Dinner</td>\n",
              "      <td>2</td>\n",
              "    </tr>\n",
              "    <tr>\n",
              "      <th>1</th>\n",
              "      <td>10.340</td>\n",
              "      <td>1.660</td>\n",
              "      <td>Male</td>\n",
              "      <td>No</td>\n",
              "      <td>Sun</td>\n",
              "      <td>Dinner</td>\n",
              "      <td>3</td>\n",
              "    </tr>\n",
              "    <tr>\n",
              "      <th>2</th>\n",
              "      <td>21.010</td>\n",
              "      <td>3.500</td>\n",
              "      <td>Male</td>\n",
              "      <td>No</td>\n",
              "      <td>Sun</td>\n",
              "      <td>Dinner</td>\n",
              "      <td>3</td>\n",
              "    </tr>\n",
              "    <tr>\n",
              "      <th>3</th>\n",
              "      <td>23.680</td>\n",
              "      <td>3.310</td>\n",
              "      <td>Male</td>\n",
              "      <td>No</td>\n",
              "      <td>Sun</td>\n",
              "      <td>Dinner</td>\n",
              "      <td>2</td>\n",
              "    </tr>\n",
              "    <tr>\n",
              "      <th>4</th>\n",
              "      <td>24.590</td>\n",
              "      <td>3.610</td>\n",
              "      <td>Female</td>\n",
              "      <td>No</td>\n",
              "      <td>Sun</td>\n",
              "      <td>Dinner</td>\n",
              "      <td>4</td>\n",
              "    </tr>\n",
              "    <tr>\n",
              "      <th>...</th>\n",
              "      <td>...</td>\n",
              "      <td>...</td>\n",
              "      <td>...</td>\n",
              "      <td>...</td>\n",
              "      <td>...</td>\n",
              "      <td>...</td>\n",
              "      <td>...</td>\n",
              "    </tr>\n",
              "    <tr>\n",
              "      <th>239</th>\n",
              "      <td>29.030</td>\n",
              "      <td>5.920</td>\n",
              "      <td>Male</td>\n",
              "      <td>No</td>\n",
              "      <td>Sat</td>\n",
              "      <td>Dinner</td>\n",
              "      <td>3</td>\n",
              "    </tr>\n",
              "    <tr>\n",
              "      <th>240</th>\n",
              "      <td>27.180</td>\n",
              "      <td>2.000</td>\n",
              "      <td>Female</td>\n",
              "      <td>Yes</td>\n",
              "      <td>Sat</td>\n",
              "      <td>Dinner</td>\n",
              "      <td>2</td>\n",
              "    </tr>\n",
              "    <tr>\n",
              "      <th>241</th>\n",
              "      <td>22.670</td>\n",
              "      <td>2.000</td>\n",
              "      <td>Male</td>\n",
              "      <td>Yes</td>\n",
              "      <td>Sat</td>\n",
              "      <td>Dinner</td>\n",
              "      <td>2</td>\n",
              "    </tr>\n",
              "    <tr>\n",
              "      <th>242</th>\n",
              "      <td>17.820</td>\n",
              "      <td>1.750</td>\n",
              "      <td>Male</td>\n",
              "      <td>No</td>\n",
              "      <td>Sat</td>\n",
              "      <td>Dinner</td>\n",
              "      <td>2</td>\n",
              "    </tr>\n",
              "    <tr>\n",
              "      <th>243</th>\n",
              "      <td>18.780</td>\n",
              "      <td>3.000</td>\n",
              "      <td>Female</td>\n",
              "      <td>No</td>\n",
              "      <td>Thur</td>\n",
              "      <td>Dinner</td>\n",
              "      <td>2</td>\n",
              "    </tr>\n",
              "  </tbody>\n",
              "</table>\n",
              "<p>244 rows × 7 columns</p>\n",
              "</div>\n",
              "      <button class=\"colab-df-convert\" onclick=\"convertToInteractive('df-e0cedb4e-cc85-4016-b2d1-bbd8b507933f')\"\n",
              "              title=\"Convert this dataframe to an interactive table.\"\n",
              "              style=\"display:none;\">\n",
              "        \n",
              "  <svg xmlns=\"http://www.w3.org/2000/svg\" height=\"24px\"viewBox=\"0 0 24 24\"\n",
              "       width=\"24px\">\n",
              "    <path d=\"M0 0h24v24H0V0z\" fill=\"none\"/>\n",
              "    <path d=\"M18.56 5.44l.94 2.06.94-2.06 2.06-.94-2.06-.94-.94-2.06-.94 2.06-2.06.94zm-11 1L8.5 8.5l.94-2.06 2.06-.94-2.06-.94L8.5 2.5l-.94 2.06-2.06.94zm10 10l.94 2.06.94-2.06 2.06-.94-2.06-.94-.94-2.06-.94 2.06-2.06.94z\"/><path d=\"M17.41 7.96l-1.37-1.37c-.4-.4-.92-.59-1.43-.59-.52 0-1.04.2-1.43.59L10.3 9.45l-7.72 7.72c-.78.78-.78 2.05 0 2.83L4 21.41c.39.39.9.59 1.41.59.51 0 1.02-.2 1.41-.59l7.78-7.78 2.81-2.81c.8-.78.8-2.07 0-2.86zM5.41 20L4 18.59l7.72-7.72 1.47 1.35L5.41 20z\"/>\n",
              "  </svg>\n",
              "      </button>\n",
              "      \n",
              "  <style>\n",
              "    .colab-df-container {\n",
              "      display:flex;\n",
              "      flex-wrap:wrap;\n",
              "      gap: 12px;\n",
              "    }\n",
              "\n",
              "    .colab-df-convert {\n",
              "      background-color: #E8F0FE;\n",
              "      border: none;\n",
              "      border-radius: 50%;\n",
              "      cursor: pointer;\n",
              "      display: none;\n",
              "      fill: #1967D2;\n",
              "      height: 32px;\n",
              "      padding: 0 0 0 0;\n",
              "      width: 32px;\n",
              "    }\n",
              "\n",
              "    .colab-df-convert:hover {\n",
              "      background-color: #E2EBFA;\n",
              "      box-shadow: 0px 1px 2px rgba(60, 64, 67, 0.3), 0px 1px 3px 1px rgba(60, 64, 67, 0.15);\n",
              "      fill: #174EA6;\n",
              "    }\n",
              "\n",
              "    [theme=dark] .colab-df-convert {\n",
              "      background-color: #3B4455;\n",
              "      fill: #D2E3FC;\n",
              "    }\n",
              "\n",
              "    [theme=dark] .colab-df-convert:hover {\n",
              "      background-color: #434B5C;\n",
              "      box-shadow: 0px 1px 3px 1px rgba(0, 0, 0, 0.15);\n",
              "      filter: drop-shadow(0px 1px 2px rgba(0, 0, 0, 0.3));\n",
              "      fill: #FFFFFF;\n",
              "    }\n",
              "  </style>\n",
              "\n",
              "      <script>\n",
              "        const buttonEl =\n",
              "          document.querySelector('#df-e0cedb4e-cc85-4016-b2d1-bbd8b507933f button.colab-df-convert');\n",
              "        buttonEl.style.display =\n",
              "          google.colab.kernel.accessAllowed ? 'block' : 'none';\n",
              "\n",
              "        async function convertToInteractive(key) {\n",
              "          const element = document.querySelector('#df-e0cedb4e-cc85-4016-b2d1-bbd8b507933f');\n",
              "          const dataTable =\n",
              "            await google.colab.kernel.invokeFunction('convertToInteractive',\n",
              "                                                     [key], {});\n",
              "          if (!dataTable) return;\n",
              "\n",
              "          const docLinkHtml = 'Like what you see? Visit the ' +\n",
              "            '<a target=\"_blank\" href=https://colab.research.google.com/notebooks/data_table.ipynb>data table notebook</a>'\n",
              "            + ' to learn more about interactive tables.';\n",
              "          element.innerHTML = '';\n",
              "          dataTable['output_type'] = 'display_data';\n",
              "          await google.colab.output.renderOutput(dataTable, element);\n",
              "          const docLink = document.createElement('div');\n",
              "          docLink.innerHTML = docLinkHtml;\n",
              "          element.appendChild(docLink);\n",
              "        }\n",
              "      </script>\n",
              "    </div>\n",
              "  </div>\n",
              "  "
            ]
          },
          "metadata": {},
          "execution_count": 5
        }
      ]
    },
    {
      "cell_type": "markdown",
      "source": [
        "Dep. Variable: 종속변수\n",
        "\n",
        "R-squared: 결정계수\n",
        "\n",
        "Model: 분석모형\n",
        "\n",
        "Adj. R-squared: 조정된 결정계수\n",
        "\n",
        "Method: 모형 계산방식\n",
        "\n",
        "F-statistics: 모형 적합도 통계량\n",
        "\n",
        "Prob(F-statistics): F 통계량의 유의확률\n",
        "\n",
        "DF Residuals: 잔차의 자유도\n",
        "\n",
        "DF Model: 모형의 매개변수 수\n",
        "\n",
        "AIC/BIC: 여러 모형의 적합도 비교\n",
        "\n",
        "\n",
        "\n",
        "std err: 계수 추정치의 표준오차\n",
        "\n",
        "t: t-value 검정통계량\n",
        "\n",
        "P>|t|: 유의확률\n",
        "\n",
        "[0.025 0.975]: 95% 신뢰구간 범위\n",
        "\n",
        "\n",
        "\n",
        "Omnibus: 잔차의 왜도/첨도 검정통계량\n",
        "\n",
        "Prob(Omnibus): Omnibus의 유의확률\n",
        "\n",
        "Skew/Kurtosis: 왜도/첨도\n",
        "\n",
        "Durbin-Watson: 잔차의 독립성 검정통계량\n",
        "\n",
        "Jarque-Bera(JB): 잔차의 왜도/첨도 검정통계량\n",
        "\n",
        "Prob(JB): JB의 유의확률\n",
        "\n",
        "Cond. No.: 다중공선성 검정통계량"
      ],
      "metadata": {
        "id": "w3ndaPk-MBUs"
      }
    },
    {
      "cell_type": "code",
      "source": [
        "import statsmodels.formula.api as smf\n",
        "\n",
        "# formula 회귀모형 \n",
        "model = smf.ols(formula='tip~total_bill', data=hos).fit()\n",
        "model.summary()"
      ],
      "metadata": {
        "colab": {
          "base_uri": "https://localhost:8080/",
          "height": 451
        },
        "id": "bfRbwqJXLLFs",
        "outputId": "48b89e6d-60d1-4002-d485-ac2cec58fa9b"
      },
      "execution_count": 6,
      "outputs": [
        {
          "output_type": "execute_result",
          "data": {
            "text/plain": [
              "<class 'statsmodels.iolib.summary.Summary'>\n",
              "\"\"\"\n",
              "                            OLS Regression Results                            \n",
              "==============================================================================\n",
              "Dep. Variable:                    tip   R-squared:                       0.457\n",
              "Model:                            OLS   Adj. R-squared:                  0.454\n",
              "Method:                 Least Squares   F-statistic:                     203.4\n",
              "Date:                Wed, 13 Apr 2022   Prob (F-statistic):           6.69e-34\n",
              "Time:                        18:01:01   Log-Likelihood:                -350.54\n",
              "No. Observations:                 244   AIC:                             705.1\n",
              "Df Residuals:                     242   BIC:                             712.1\n",
              "Df Model:                           1                                         \n",
              "Covariance Type:            nonrobust                                         \n",
              "==============================================================================\n",
              "                 coef    std err          t      P>|t|      [0.025      0.975]\n",
              "------------------------------------------------------------------------------\n",
              "Intercept      0.9203      0.160      5.761      0.000       0.606       1.235\n",
              "total_bill     0.1050      0.007     14.260      0.000       0.091       0.120\n",
              "==============================================================================\n",
              "Omnibus:                       20.185   Durbin-Watson:                   2.151\n",
              "Prob(Omnibus):                  0.000   Jarque-Bera (JB):               37.750\n",
              "Skew:                           0.443   Prob(JB):                     6.35e-09\n",
              "Kurtosis:                       4.711   Cond. No.                         53.0\n",
              "==============================================================================\n",
              "\n",
              "Notes:\n",
              "[1] Standard Errors assume that the covariance matrix of the errors is correctly specified.\n",
              "\"\"\""
            ],
            "text/html": [
              "<table class=\"simpletable\">\n",
              "<caption>OLS Regression Results</caption>\n",
              "<tr>\n",
              "  <th>Dep. Variable:</th>           <td>tip</td>       <th>  R-squared:         </th> <td>   0.457</td>\n",
              "</tr>\n",
              "<tr>\n",
              "  <th>Model:</th>                   <td>OLS</td>       <th>  Adj. R-squared:    </th> <td>   0.454</td>\n",
              "</tr>\n",
              "<tr>\n",
              "  <th>Method:</th>             <td>Least Squares</td>  <th>  F-statistic:       </th> <td>   203.4</td>\n",
              "</tr>\n",
              "<tr>\n",
              "  <th>Date:</th>             <td>Wed, 13 Apr 2022</td> <th>  Prob (F-statistic):</th> <td>6.69e-34</td>\n",
              "</tr>\n",
              "<tr>\n",
              "  <th>Time:</th>                 <td>18:01:01</td>     <th>  Log-Likelihood:    </th> <td> -350.54</td>\n",
              "</tr>\n",
              "<tr>\n",
              "  <th>No. Observations:</th>      <td>   244</td>      <th>  AIC:               </th> <td>   705.1</td>\n",
              "</tr>\n",
              "<tr>\n",
              "  <th>Df Residuals:</th>          <td>   242</td>      <th>  BIC:               </th> <td>   712.1</td>\n",
              "</tr>\n",
              "<tr>\n",
              "  <th>Df Model:</th>              <td>     1</td>      <th>                     </th>     <td> </td>   \n",
              "</tr>\n",
              "<tr>\n",
              "  <th>Covariance Type:</th>      <td>nonrobust</td>    <th>                     </th>     <td> </td>   \n",
              "</tr>\n",
              "</table>\n",
              "<table class=\"simpletable\">\n",
              "<tr>\n",
              "       <td></td>         <th>coef</th>     <th>std err</th>      <th>t</th>      <th>P>|t|</th>  <th>[0.025</th>    <th>0.975]</th>  \n",
              "</tr>\n",
              "<tr>\n",
              "  <th>Intercept</th>  <td>    0.9203</td> <td>    0.160</td> <td>    5.761</td> <td> 0.000</td> <td>    0.606</td> <td>    1.235</td>\n",
              "</tr>\n",
              "<tr>\n",
              "  <th>total_bill</th> <td>    0.1050</td> <td>    0.007</td> <td>   14.260</td> <td> 0.000</td> <td>    0.091</td> <td>    0.120</td>\n",
              "</tr>\n",
              "</table>\n",
              "<table class=\"simpletable\">\n",
              "<tr>\n",
              "  <th>Omnibus:</th>       <td>20.185</td> <th>  Durbin-Watson:     </th> <td>   2.151</td>\n",
              "</tr>\n",
              "<tr>\n",
              "  <th>Prob(Omnibus):</th> <td> 0.000</td> <th>  Jarque-Bera (JB):  </th> <td>  37.750</td>\n",
              "</tr>\n",
              "<tr>\n",
              "  <th>Skew:</th>          <td> 0.443</td> <th>  Prob(JB):          </th> <td>6.35e-09</td>\n",
              "</tr>\n",
              "<tr>\n",
              "  <th>Kurtosis:</th>      <td> 4.711</td> <th>  Cond. No.          </th> <td>    53.0</td>\n",
              "</tr>\n",
              "</table><br/><br/>Notes:<br/>[1] Standard Errors assume that the covariance matrix of the errors is correctly specified."
            ]
          },
          "metadata": {},
          "execution_count": 6
        }
      ]
    },
    {
      "cell_type": "markdown",
      "source": [
        "1. 첫번째는 모형검정 - 첫번째 블록\n",
        "2. 두번째는 계수검정 - 두번째 블록 \n",
        "3. 세번째는 잔차검정 - 세번째 블록 "
      ],
      "metadata": {
        "id": "6EA3NRaCPRAg"
      }
    },
    {
      "cell_type": "markdown",
      "source": [
        "- R-squared:\t0.457 모형 설명력 - 45프로\n",
        "- Prob (F-statistic):\t6.69e-34 :\n",
        "\n",
        "\n",
        "- total_bill\tcoef 는 0.1050 \n",
        "- total_bill 1단위 증가하면 tip은 0.1050 만큼 증가함 "
      ],
      "metadata": {
        "id": "KQ0KSmUWPgzs"
      }
    },
    {
      "cell_type": "markdown",
      "source": [
        "Durbin-Watson:\t2.151\n",
        "\n",
        "- 잔차의 독립성 검정 2에 가까울수록 잔차의 독립성이 확보됨 = 좋은 모형이다.\n",
        "- 잔차 검정 - 모델의 검정 "
      ],
      "metadata": {
        "id": "VIMEMlaOGMds"
      }
    },
    {
      "cell_type": "markdown",
      "source": [
        "산점도와 선형회귀선을 그려본다.\n"
      ],
      "metadata": {
        "id": "STKsRhQJMDMO"
      }
    },
    {
      "cell_type": "code",
      "source": [
        "fit = np.polyfit(hos['total_bill'], hos['tip'], 1)\n",
        "fit_fn = np.poly1d(fit)\n",
        "\n",
        "%matplotlib inline\n",
        "plt.xlabel('total_bill')\n",
        "plt.ylabel('tip')\n",
        "\n",
        "plt.plot(hos['total_bill'], hos['tip'], 'o')\n",
        "plt.plot(hos['total_bill'], fit_fn(hos['tip']), 'r');"
      ],
      "metadata": {
        "colab": {
          "base_uri": "https://localhost:8080/",
          "height": 324
        },
        "id": "k1gsG5JMMEND",
        "outputId": "ee9c7b83-d9af-46db-dbc5-0ae82443a3c9"
      },
      "execution_count": 8,
      "outputs": [
        {
          "output_type": "display_data",
          "data": {
            "text/plain": [
              "<Figure size 432x288 with 1 Axes>"
            ],
            "image/png": "[encoded data removed]"
          },
          "metadata": {
            "needs_background": "light"
          }
        }
      ]
    },
    {
      "cell_type": "code",
      "source": [
        ""
      ],
      "metadata": {
        "id": "ZZbWA83rPFnZ"
      },
      "execution_count": null,
      "outputs": []
    }
  ]
}